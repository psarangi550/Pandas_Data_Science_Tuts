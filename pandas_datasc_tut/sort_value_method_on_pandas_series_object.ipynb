{
 "cells": [
  {
   "cell_type": "markdown",
   "id": "824fe069",
   "metadata": {},
   "source": [
    "# <ins> sort_values method on pandas Series Object </ins> #\n",
    "\n",
    " - we can sort the `values of the Pandas Series Object in Ascending Or descending Order` by using the `sort_values()` method on the `Pandas Series Object`\n",
    " - `sort_values()` method will sort the `Values of the Pandas Data Series in Ascending Order By default`\n",
    " - we can use the `multiple methods as a chain` in the `Pandas Data Series Object`\n",
    " - the `sort_values()` on the Pandas Series will return the `Pandas Series Object` in return which can be used with the `method chains`\n",
    " - hence we can use the `head()/tail()` on the `sort_values() return output` and vice-versa\n",
    " - if we have to `sort the values in the descending order` then we can implement as `ascending=False` args into the `sort_values()` \n",
    " - by default the `ascending=True ` while using the `sort_values() on the Pandas Data Series`\n",
    " - the `index position` of the `Pandas Series Object` will change accrodingly when we are using the `sort_values() on the pandas Series Object` \n",
    " \n",
    " "
   ]
  },
  {
   "cell_type": "code",
   "execution_count": 10,
   "id": "09de0418",
   "metadata": {
    "scrolled": true
   },
   "outputs": [
    {
     "data": {
      "text/plain": [
       "11    49.95\n",
       "9     50.07\n",
       "0     50.12\n",
       "10    50.70\n",
       "12    50.74\n",
       "Name: Stock Price, dtype: float64"
      ]
     },
     "execution_count": 10,
     "metadata": {},
     "output_type": "execute_result"
    }
   ],
   "source": [
    "import pandas as pd #importing the pandas module in here\n",
    "df=pd.read_csv(\"datasets/google_stock_price.csv\",usecols=[\"Stock Price\"]) #creating the DataFrame Object from the read_csv() method using only one column\n",
    "google=df.squeeze(\"columns\") #creating  the Series Object from the DataFrame Object\n",
    "sorted_google_sheet=google.sort_values(ascending=True) #sorting the values in the Ascending Order from that Pandas Data Series\n",
    "head_google_sheet=sorted_google_sheet.head() #fetching the first 5 rows from the google Sheet\n",
    "head_google_sheet #printing thegoogle_head_sheet from here"
   ]
  },
  {
   "cell_type": "markdown",
   "id": "86c60f51",
   "metadata": {},
   "source": [
    "# <ins> sort_index method on pandas Series Object </ins> #\n",
    "\n",
    "- we can create a `Series Object` from the `DataFrame Object` using the `squeeze(\"columns\") on the Data Frame Object`\n",
    "- By default the `index` of those `Series Object` created from the `Single Column DataFrame object` have the number from `0...n`\n",
    "- but we can also create a `Series Object` from the `DataFrame Object` using another column as an `index value`\n",
    "- we can do that by using the below Syntax\n",
    "    - by passing the `index_col` args to the `read_csv() on the pandas object` we can customize the `index value of the Pandas Data Series`\n",
    "    -  we have to pass the `index_col` as the column that we want to use as the `index label` for the `values in the pandas Series Object` which can be another column something with the Same number of element\n",
    "    - the `index_col` should be the `String Value with the name of column we want to use as the index label`\n",
    "    - its in the same line as making the `python dict` as the `Series Object` where the `Key` become the `index label` and `values` become the `value of the Pandas Series Object`\n",
    "\n",
    "- we can use the `sort_index()` to the `index` in the `Alphabetical or numerical` order\n",
    "- here the default `ascending=True` for the `sort_index() on the pandas series object` and which sort it in `Ascending Order`\n",
    "- we can also sort it in the `descending Order` by making the `ascending order=False` and passing that to the sort_index() on the `Pandas Series Object`"
   ]
  },
  {
   "cell_type": "code",
   "execution_count": 16,
   "id": "6c4f8aae",
   "metadata": {},
   "outputs": [
    {
     "data": {
      "text/plain": [
       "Pokemon\n",
       "Abomasnow      Grass\n",
       "Abra         Psychic\n",
       "Absol           Dark\n",
       "Accelgor         Bug\n",
       "Aegislash      Steel\n",
       "Name: Type, dtype: object"
      ]
     },
     "execution_count": 16,
     "metadata": {},
     "output_type": "execute_result"
    }
   ],
   "source": [
    "import pandas as pd\n",
    "#importing the Pandas Module\n",
    "df=pd.read_csv(\"datasets/pokemon.csv\",index_col=\"Pokemon\")\n",
    "#creating the DataFrame object using the index_col as the Column which created as index\n",
    "pokemon=df.squeeze(\"columns\")\n",
    "#creating the Series Object from the DataFrame Object\n",
    "pokemon.sort_index(ascending=True).head()\n",
    "#chaining the method and sorting the Index "
   ]
  }
 ],
 "metadata": {
  "kernelspec": {
   "display_name": "Python 3 (ipykernel)",
   "language": "python",
   "name": "python3"
  },
  "language_info": {
   "codemirror_mode": {
    "name": "ipython",
    "version": 3
   },
   "file_extension": ".py",
   "mimetype": "text/x-python",
   "name": "python",
   "nbconvert_exporter": "python",
   "pygments_lexer": "ipython3",
   "version": "3.11.2"
  }
 },
 "nbformat": 4,
 "nbformat_minor": 5
}
