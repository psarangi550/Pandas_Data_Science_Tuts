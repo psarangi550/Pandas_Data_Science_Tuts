{
 "cells": [
  {
   "cell_type": "markdown",
   "id": "7c6ff6b1",
   "metadata": {},
   "source": [
    "# <ins> How to Use `in` Keyword of python in Pandas Seried Object i.e in both index and values </ins> #\n",
    "\n",
    "- whether a `value` exists in the `index` or not we can validate that by using the `in` keyword\n",
    "- whether a `value` exists in the `given values or not`\n",
    "- we can use the `Pandas Data Series` onto the `right Hand Side of the in keyword to check whether a value present or not `\n",
    "- the `in` keywords will search in the `Pandas Series index` bybdefault rather than the `Pandas Series Value`\n",
    "- we can fetch the index attribute in the `Pandas Series Object` which will provide the `index` of the all Series object\n",
    "- the `index` attribute on the `Pandas Series object` provide the `RangeIndex object ` having the `start,stop and step` values as `<pandas Data Series>.index` &rarr; `RangeIndex(start,stop,step)`\n",
    "- we can also use the `in` keyword for the `index value` as well which is a `<index number> in <pandas Series object>.index`\n",
    "\n",
    "\n",
    "- we can use the `values` attribute on the `Pandas Series Object` which will return a `ndarray object` which is from the `numpy` module\n",
    "- hence we can use that as the `<pandas Series object>.values` &rarr; `ndarray object`\n",
    "- using this we can use the `in` operator to compare the `values` of the `Pandas Series Object` whether they are present or not \n",
    "- we can use this as `<particular value> in <pandas Series Obj>.values`\n"
   ]
  },
  {
   "cell_type": "code",
   "execution_count": 4,
   "id": "a982d256",
   "metadata": {},
   "outputs": [
    {
     "data": {
      "text/plain": [
       "True"
      ]
     },
     "execution_count": 4,
     "metadata": {},
     "output_type": "execute_result"
    }
   ],
   "source": [
    "import pandas as pd\n",
    "df=pd.read_csv(\"datasets/pokemon.csv\",usecols=[\"Pokemon\"])\n",
    "pokemon=df.squeeze()\n",
    "100 in pokemon # by default in pandas values with the left compare direct to the index\n",
    "# we can also search by using the `index atrribute over the pandas Series Object`\n",
    "100 in pokemon.index\n",
    "# we can use the values attribute over the Pandas Series Object if we are looking for the particular value inside the value of the Pandas Series rather than index\n",
    "\"Bulbasaur\" in pokemon.values"
   ]
  }
 ],
 "metadata": {
  "kernelspec": {
   "display_name": "Python 3 (ipykernel)",
   "language": "python",
   "name": "python3"
  },
  "language_info": {
   "codemirror_mode": {
    "name": "ipython",
    "version": 3
   },
   "file_extension": ".py",
   "mimetype": "text/x-python",
   "name": "python",
   "nbconvert_exporter": "python",
   "pygments_lexer": "ipython3",
   "version": "3.11.2"
  }
 },
 "nbformat": 4,
 "nbformat_minor": 5
}
