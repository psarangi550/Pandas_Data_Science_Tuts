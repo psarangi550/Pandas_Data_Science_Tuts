{
 "cells": [
  {
   "cell_type": "code",
   "execution_count": 2,
   "metadata": {},
   "outputs": [],
   "source": [
    "! conda activate pandas_playground"
   ]
  },
  {
   "cell_type": "markdown",
   "metadata": {},
   "source": [
    "- In order to see the `syntax` of a `function` we need tpo execute the `cell` by using the `shift+Enter` or `ctrl+enter`\n",
    "- then we can use the `shift+Tab` or `shift+Tab+Tab` in order to see the rest of the details"
   ]
  },
  {
   "cell_type": "markdown",
   "metadata": {},
   "source": [
    "- we can skip the `empty lines` while using the `read_csv()`\n",
    "- we can also consider the values as the `dates` while using the csv files`\n",
    "- we can skip the `rows` in the read_csv()\n",
    "- we can also skip the `duplicates column` while using the `read_csv()` of the `pandas` module"
   ]
  },
  {
   "cell_type": "markdown",
   "metadata": {},
   "source": [
    "- when we use the `read_csv()` on the `pandas object` then we will get the `DataFrame object` in return\n",
    "- `DataFrame object` which is equivalent to the `Tables`\n",
    "- `Series` is a `pandas object` which represents a `single column data`\n",
    "- in order to conveer the `DataFrame object into a series object` then we must have to select only `one column` instead of `multiple ones`\n",
    "- for that we have to use an additional parameter as `usecols` as `pd.read_csv(file_path_of_csv,usecols=[\"<column name we want to filter from the data frame>\"])`\n",
    "- the `usecols` should be a python  list which represents `how many columns we want to use from the DataFrame object`\n",
    "- here the `usecols` args expect a `list of column name` what we want to filter from the `overall dataframe object created from the csv`"
   ]
  },
  {
   "cell_type": "markdown",
   "metadata": {},
   "source": [
    "###### Converting the Pandas Data Frame Object into the Series Object ######\n",
    "- The DataFrame object which being created from the `read_csv()` have a method called `squeeze()` in order to conver the `Single column DataFrame Object into the Series Object`\n",
    "- That make sense if we have a `Table of rows and column` then we can `squeeze` that in order to get the `Single Column Series Object`\n",
    "- `Series` object is a single column data where as `DataFrame object` can store the `single or more column of Data`\n",
    "- we can pass an `additional String` while using the `squeeze()` on the `dataframe object` i.e string as `columns` as below\n",
    "- its does not do anything significantly but squuezes the `Single column DataFrame obj into a single Series Column`\n",
    "- we can use the  command as below \n",
    "\n",
    "    ```\n",
    "        import pandas as pd #creating the pandas object from the pandas Library\n",
    "        <single Column Df object>= pd.read_csv(<file_path_of_csv>,usecols=[\"<column we want to keep>\"])\n",
    "        # we can create the Series Object from the Single Column DataFrame Object\n",
    "        <df frame obj with single column>.squeeze()\n",
    "        # Alternatively we can use the command below as well to create the Series object from the dataframe object\n",
    "        <df frame obj with single column>.squeeze(\"columns\")   \n",
    "    ```"
   ]
  },
  {
   "cell_type": "markdown",
   "metadata": {},
   "source": [
    "- The `Series` object that we get in response show the `Length` which is the `overall length of the values from the DataFrame or csv`\n",
    "- there will a `name` component  ehich been refered as the `name of the column  that we produced`\n"
   ]
  },
  {
   "cell_type": "code",
   "execution_count": 8,
   "metadata": {},
   "outputs": [
    {
     "name": "stdout",
     "output_type": "stream",
     "text": [
      "0       Bulbasaur\n",
      "1         Ivysaur\n",
      "2        Venusaur\n",
      "3      Charmander\n",
      "4      Charmeleon\n",
      "          ...    \n",
      "716       Yveltal\n",
      "717       Zygarde\n",
      "718       Diancie\n",
      "719         Hoopa\n",
      "720     Volcanion\n",
      "Name: Pokemon, Length: 721, dtype: object\n"
     ]
    }
   ],
   "source": [
    "import pandas as pd\n",
    "df=pd.read_csv(\"datasets/pokemon.csv\",usecols=[\"Pokemon\"])\n",
    "df_series=df.squeeze()\n",
    "print(df_series)"
   ]
  },
  {
   "cell_type": "code",
   "execution_count": 13,
   "metadata": {},
   "outputs": [
    {
     "data": {
      "text/plain": [
       "0        50.12\n",
       "1        54.10\n",
       "2        54.65\n",
       "3        52.38\n",
       "4        52.95\n",
       "         ...  \n",
       "3007    772.88\n",
       "3008    771.07\n",
       "3009    773.18\n",
       "3010    771.61\n",
       "3011    782.22\n",
       "Name: Stock Price, Length: 3012, dtype: float64"
      ]
     },
     "execution_count": 13,
     "metadata": {},
     "output_type": "execute_result"
    }
   ],
   "source": [
    "import pandas as pd\n",
    "pd.read_csv(\"datasets/google_stock_price.csv\")\n",
    "stock_price=pd.read_csv(\"datasets/google_stock_price.csv\").squeeze(\"columns\")\n",
    "stock_price"
   ]
  }
 ],
 "metadata": {
  "interpreter": {
   "hash": "862e13e9cc27fb8d897d1fe04b81438f37e0a6a9f1787239444109a600f4c9e1"
  },
  "kernelspec": {
   "display_name": "Python 3 (ipykernel)",
   "language": "python",
   "name": "python3"
  },
  "language_info": {
   "codemirror_mode": {
    "name": "ipython",
    "version": 3
   },
   "file_extension": ".py",
   "mimetype": "text/x-python",
   "name": "python",
   "nbconvert_exporter": "python",
   "pygments_lexer": "ipython3",
   "version": "3.11.2"
  }
 },
 "nbformat": 4,
 "nbformat_minor": 2
}
