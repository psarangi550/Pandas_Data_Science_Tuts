{
 "cells": [
  {
   "cell_type": "markdown",
   "id": "831702c5",
   "metadata": {},
   "source": [
    "# <ins> Map Method on the Pandas Series Object </ins> #\n",
    "- `map()` allow us to `map every value of Pandas Series Object` to `another value`\n",
    "- `associate another value` to `another value` using the map() on the `Pandas Series Object`\n",
    "- we also need to provide the `function obj as an args` to the `map()`\n",
    "- same like `apply()` the `map()` will return a `series object` in return \n",
    "- if we want to redefine the `values` of `pandas Series Object` based on another `object` then in that case the `map()` will be very helpful\n",
    "- while the `apply()` accept the function as the args but in case of `map()` we can pass the `function obj or associative object` with which we want to reference \n",
    "- we can provide the `source` as `dict` so that `it will map the value of the Pandas Series Object based on the key of the Python dictionary we have provided`\n",
    "- if we have a `value of pandas Series Object` which does not have the `key in the corresponding python dictionary` then it will display `NaN` whcih stands for `Not a Number`\n",
    "- when ever there will be a missing value `Pandas` will always provide the `NaN` value rather than a `None` value\n",
    "- `Python Dictionary` is an example of `Associative object` in `Pandas Library` but there are lot more \n",
    "\n",
    "### <ins> How to Create the Pandas Series Object using the Python List or Dict </ins> ###\n",
    "- we can use the `Series` constructor to do the `Same` thing in order to create the Pandas Series Object \n",
    "    ```\n",
    "        import pandas as pd #importing the pandas module \n",
    "        <series obj>=pd.Series(<python dict>/<python List>)\n",
    "        #creating the Series object from the python dict or list object\n",
    "        # here Pandas Series Object index label will be the `key of the dict` in case of dict\n",
    "        # also Pandas Series Object values will be the `value of the dict` in case of dict\n",
    "        #when we provide the list then the `index` become the `index label` of pandas Series object \n",
    "        # and the value sbecome the `Pandas Series Object values`\n",
    "    ```\n",
    "- we can use this Series Object as `reference object` in order to use it in the `map()`\n",
    "- when we provide the `Pandas Series onject as the reference` then it will look for the `Key of the reference object` in the `Value of the Original Pandas Series Object which we want to reference from `\n",
    "- if matched then replace the `value` else provide it as `NaN` which is a Not a Number object\n"
   ]
  },
  {
   "cell_type": "code",
   "execution_count": 2,
   "id": "3d07b0ac",
   "metadata": {},
   "outputs": [
    {
     "data": {
      "text/plain": [
       "Pokemon\n",
       "Bulbasaur     5\n",
       "Ivysaur       5\n",
       "Venusaur      5\n",
       "Charmander    4\n",
       "Charmeleon    4\n",
       "             ..\n",
       "Yveltal       4\n",
       "Zygarde       6\n",
       "Diancie       4\n",
       "Hoopa         7\n",
       "Volcanion     4\n",
       "Name: Type, Length: 721, dtype: int64"
      ]
     },
     "execution_count": 2,
     "metadata": {},
     "output_type": "execute_result"
    }
   ],
   "source": [
    "import pandas as pd #importing the pandas module in here\n",
    "df=pd.read_csv(\"datasets/pokemon.csv\",index_col=\"Pokemon\")\n",
    "#creating the DataFrame object from read_csv()\n",
    "pokemon=df.squeeze(\"columns\")\n",
    "#creating the Pandas Series Object from DataFrame Object \n",
    "pokemon.map(len)\n",
    "#here using the map() in order to get the length of the values in the pandas Series Object"
   ]
  },
  {
   "cell_type": "code",
   "execution_count": 3,
   "id": "c7bbc838",
   "metadata": {
    "scrolled": true
   },
   "outputs": [
    {
     "data": {
      "text/plain": [
       "Pokemon\n",
       "Bulbasaur     classic\n",
       "Ivysaur       classic\n",
       "Venusaur      classic\n",
       "Charmander       Fire\n",
       "Charmeleon       Fire\n",
       "               ...   \n",
       "Yveltal          Dark\n",
       "Zygarde        Dragon\n",
       "Diancie          Rock\n",
       "Hoopa         Psychic\n",
       "Volcanion        Fire\n",
       "Name: Type, Length: 721, dtype: object"
      ]
     },
     "execution_count": 3,
     "metadata": {},
     "output_type": "execute_result"
    }
   ],
   "source": [
    "import pandas as pd #importing the pandas module in here\n",
    "df=pd.read_csv(\"datasets/pokemon.csv\",index_col=\"Pokemon\")\n",
    "#creating the DataFrame object from read_csv()\n",
    "pokemon=df.squeeze(\"columns\")\n",
    "#creating the Pandas Series Object from DataFrame Object \n",
    "#defining a custom function over here \n",
    "def ranked_pokemon(pokemon_obj:str)->str:\n",
    "    if pokemon_obj in [\"Grass\",\"Water\"]:\n",
    "        return \"classic\"\n",
    "    elif pokemon_obj == \"Normal\":\n",
    "        return \"Boaring\"\n",
    "    else:\n",
    "        return pokemon_obj\n",
    "#using the map() here to change every value of the pandas Series Object \n",
    "pokemon.map(ranked_pokemon)\n",
    "#using the map() on the Pandas Series oBject to change each value in the Pandas Series Object "
   ]
  },
  {
   "cell_type": "code",
   "execution_count": 6,
   "id": "65f53246",
   "metadata": {},
   "outputs": [
    {
     "data": {
      "text/plain": [
       "Pokemon\n",
       "Bulbasaur     classic\n",
       "Ivysaur       classic\n",
       "Venusaur      classic\n",
       "Charmander    classic\n",
       "Charmeleon    classic\n",
       "               ...   \n",
       "Yveltal          None\n",
       "Zygarde          None\n",
       "Diancie          None\n",
       "Hoopa            None\n",
       "Volcanion     classic\n",
       "Name: Type, Length: 721, dtype: object"
      ]
     },
     "execution_count": 6,
     "metadata": {},
     "output_type": "execute_result"
    }
   ],
   "source": [
    "import pandas as pd #importing the pandas module in here\n",
    "df=pd.read_csv(\"datasets/pokemon.csv\",index_col=\"Pokemon\")\n",
    "#creating the DataFrame object from read_csv()\n",
    "pokemon=df.squeeze(\"columns\")\n",
    "#creating the Pandas Series Object from the DataFrame object\n",
    "mappings={\n",
    "    \"Grass\":\"classic\",\n",
    "    \"Water\":\"classic\",\n",
    "    \"Fire\":\"classic\",\n",
    "    \"Normal\": \"Boaring\"\n",
    "}\n",
    "#now if we want to change the pokemon Pandas Series Object values into the corresponding key value of the mapping then we can do that with the \n",
    "# help of map() without writing any additional function\n",
    "pokemon.map(lambda x: mappings.get(x))"
   ]
  },
  {
   "cell_type": "code",
   "execution_count": 7,
   "id": "3627b904",
   "metadata": {},
   "outputs": [
    {
     "data": {
      "text/plain": [
       "Pokemon\n",
       "Bulbasaur     classic\n",
       "Ivysaur       classic\n",
       "Venusaur      classic\n",
       "Charmander    classic\n",
       "Charmeleon    classic\n",
       "               ...   \n",
       "Yveltal           NaN\n",
       "Zygarde           NaN\n",
       "Diancie           NaN\n",
       "Hoopa             NaN\n",
       "Volcanion     classic\n",
       "Name: Type, Length: 721, dtype: object"
      ]
     },
     "execution_count": 7,
     "metadata": {},
     "output_type": "execute_result"
    }
   ],
   "source": [
    "import pandas as pd #importing the pandas module in here\n",
    "df=pd.read_csv(\"datasets/pokemon.csv\",index_col=\"Pokemon\")\n",
    "#creating the DataFrame object from read_csv()\n",
    "pokemon=df.squeeze(\"columns\")\n",
    "#creating the Pandas Series Object from the DataFrame object\n",
    "mappings={\n",
    "    \"Grass\":\"classic\",\n",
    "    \"Water\":\"classic\",\n",
    "    \"Fire\":\"classic\",\n",
    "    \"Normal\": \"Boaring\"\n",
    "}\n",
    "#here we can associate the object with which we want to link it as \n",
    "pokemon.map(mappings)"
   ]
  },
  {
   "cell_type": "code",
   "execution_count": 8,
   "id": "a35f21c2",
   "metadata": {},
   "outputs": [
    {
     "data": {
      "text/plain": [
       "Pokemon\n",
       "Bulbasaur     classic\n",
       "Ivysaur       classic\n",
       "Venusaur      classic\n",
       "Charmander    classic\n",
       "Charmeleon    classic\n",
       "               ...   \n",
       "Yveltal           NaN\n",
       "Zygarde           NaN\n",
       "Diancie           NaN\n",
       "Hoopa             NaN\n",
       "Volcanion     classic\n",
       "Name: Type, Length: 721, dtype: object"
      ]
     },
     "execution_count": 8,
     "metadata": {},
     "output_type": "execute_result"
    }
   ],
   "source": [
    "mappings={\n",
    "    \"Grass\":\"classic\",\n",
    "    \"Water\":\"classic\",\n",
    "    \"Fire\":\"classic\",\n",
    "    \"Normal\": \"Boaring\"\n",
    "}\n",
    "#creating the Pandas Series object from the Python dict\n",
    "import pandas as pd #importing the pandas module \n",
    "#creating pandas Series object from the dictionary which we want  to use it as reference object in map()\n",
    "reference=pd.Series(mappings)\n",
    "#creating the reference Series Object from here\n",
    "df=pd.read_csv(\"datasets/pokemon.csv\",index_col=\"Pokemon\")\n",
    "#creaing the DataFrame object from the csv file \n",
    "pokemon=df.squeeze(\"columns\")\n",
    "#creaiong the Pandas Series object from the dataFrame object \n",
    "#now if we need to map the pokemon series based on the reference Pandas Series object then we can do that using the map() as below \n",
    "pokemon.map(reference)\n",
    "#using the  reference object to map the Pandas Series Object "
   ]
  }
 ],
 "metadata": {
  "kernelspec": {
   "display_name": "Python 3 (ipykernel)",
   "language": "python",
   "name": "python3"
  },
  "language_info": {
   "codemirror_mode": {
    "name": "ipython",
    "version": 3
   },
   "file_extension": ".py",
   "mimetype": "text/x-python",
   "name": "python",
   "nbconvert_exporter": "python",
   "pygments_lexer": "ipython3",
   "version": "3.9.5"
  }
 },
 "nbformat": 4,
 "nbformat_minor": 5
}
