{
 "cells": [
  {
   "cell_type": "markdown",
   "id": "e62541ae",
   "metadata": {},
   "source": [
    "# <ins>value_counts() on pandas Series Object </ins> #\n",
    "\n",
    "- `value_counts()` on the `Pandas Series Object` provide the `occurances of unique pandas Series Object values`\n",
    "- for each unique value in the pandas Series Object  the `value_counts()` consider and provide the `Total number of unique occurances`\n",
    "- `value_counts()` on the pandas series object will return a `Pandas Series` which will contain the `Key as the unique pandas Series Value and Values as number of unique occurances count`\n",
    "- by defaut the `values of number of occurances` are sorted in `descending order` while using the `value_counts()` on `Pandas Series Object`\n",
    "- we can use the sort_values(ascending=True) on that in order to sort that accordingly\n",
    "- or we can provide the `args` as the `ascending=True` also into the `value_counts(ascending=True)` in order to fetch the data in ascending order\n",
    "- by default `args` will be sorted as `ascending=False`\n",
    "- as `value_counts()` return the `Pandas Series Object` hence we can perform all the operation as well along with it\n",
    "\n"
   ]
  },
  {
   "cell_type": "code",
   "execution_count": 4,
   "id": "a2624c1c",
   "metadata": {},
   "outputs": [
    {
     "data": {
      "text/plain": [
       "Flying        3\n",
       "Fairy        17\n",
       "Steel        22\n",
       "Ice          23\n",
       "Ghost        23\n",
       "Dragon       24\n",
       "Fighting     25\n",
       "Dark         28\n",
       "Poison       28\n",
       "Ground       30\n",
       "Electric     36\n",
       "Rock         41\n",
       "Psychic      47\n",
       "Fire         47\n",
       "Bug          63\n",
       "Grass        66\n",
       "Normal       93\n",
       "Water       105\n",
       "Name: Type, dtype: int64"
      ]
     },
     "execution_count": 4,
     "metadata": {},
     "output_type": "execute_result"
    }
   ],
   "source": [
    "import pandas as pd\n",
    "#importing the pandas module \n",
    "df=pd.read_csv(\"datasets/pokemon.csv\",index_col=\"Pokemon\")\n",
    "#here creating the DataFrame object with index label with Pokemon and theeir Types as values\n",
    "google=df.squeeze(\"columns\")\n",
    "#converting the DataFrame to the Pandas Series object\n",
    "google\n",
    "#fetching the unique counts as below but values will be in the descending order\n",
    "google.value_counts()\n",
    "#making thenm as the Ascending Order\n",
    "google.value_counts().sort_values(ascending=True)\n"
   ]
  },
  {
   "cell_type": "markdown",
   "id": "d052cb3e",
   "metadata": {},
   "source": [
    "- the `value_counts()` will provide the `number of unique occurances of the Pandas Series Value` in either ascending or descending based on the `ascending arguments to value_counts()`\n",
    "- but if we want to preserve the order that is `The Order in which values was already there in the series if we need to maintain that ` then we can provide the paramter as `sort=False`\n",
    "- by using the args `sort=False` then `value_counts(sort=False)` will make sure to preserve the order in which the `values were actually present in the Pandas Series Object before value_count()`\n",
    "- but in this case as `value_counts()` represent the `original pandas series object values` as key hence we will get the `values were actually present in the Pandas Series Object before in the key`"
   ]
  },
  {
   "cell_type": "code",
   "execution_count": 8,
   "id": "a98850f3",
   "metadata": {},
   "outputs": [
    {
     "data": {
      "text/plain": [
       "Grass        66\n",
       "Fire         47\n",
       "Water       105\n",
       "Bug          63\n",
       "Normal       93\n",
       "Poison       28\n",
       "Electric     36\n",
       "Ground       30\n",
       "Fairy        17\n",
       "Fighting     25\n",
       "Psychic      47\n",
       "Rock         41\n",
       "Ghost        23\n",
       "Ice          23\n",
       "Dragon       24\n",
       "Dark         28\n",
       "Steel        22\n",
       "Flying        3\n",
       "Name: Type, dtype: int64"
      ]
     },
     "execution_count": 8,
     "metadata": {},
     "output_type": "execute_result"
    }
   ],
   "source": [
    "import pandas as pd\n",
    "#importing the pandas module \n",
    "df=pd.read_csv(\"datasets/pokemon.csv\",index_col=\"Pokemon\")\n",
    "#here creating the DataFrame object with index label with Pokemon and theeir Types as values\n",
    "google=df.squeeze(\"columns\")\n",
    "#using the valu_count() which will provide the unique occurances \n",
    "google.value_counts(ascending=True)\n",
    "#here by default the values of the Pandas Series object based on the occurances will be sorted ascending and descending order \n",
    "#but if we are using the `sort=False` then the order in which original values of Pandas Series object will be preserved and display in the same order but as index_label as the value_counts() change it\n",
    "google.value_counts(sort=False)\n"
   ]
  },
  {
   "cell_type": "markdown",
   "id": "95bd96b9",
   "metadata": {},
   "source": [
    "- we can also pass the args as the `normalize=True` which will return the `occurance percentage rather than displaying the number`\n",
    "- but here the `percentage in the decimal format` and syntax for the same can be written as below \n",
    "    \n",
    "    ```\n",
    "        <pandas Series Object>.value_counts(normalize=True)\n",
    "        # this will return the values of the pandas series object as keys with descending order but the occurance will be in percentage in decinal number\n",
    "    ```\n",
    "    \n",
    "- but we need to keep in  mind that `value_counts()` is case sensitive hence if we have values with upper case and lowercase with same letter both will be treated separately as python as well as pandas consider that different "
   ]
  },
  {
   "cell_type": "code",
   "execution_count": 13,
   "id": "79e3a56c",
   "metadata": {},
   "outputs": [
    {
     "data": {
      "text/plain": [
       "Water       14.563107\n",
       "Normal      12.898752\n",
       "Grass        9.153953\n",
       "Bug          8.737864\n",
       "Fire         6.518724\n",
       "Psychic      6.518724\n",
       "Rock         5.686546\n",
       "Electric     4.993065\n",
       "Ground       4.160888\n",
       "Poison       3.883495\n",
       "Dark         3.883495\n",
       "Fighting     3.467406\n",
       "Dragon       3.328710\n",
       "Ghost        3.190014\n",
       "Ice          3.190014\n",
       "Steel        3.051318\n",
       "Fairy        2.357836\n",
       "Flying       0.416089\n",
       "Name: Type, dtype: float64"
      ]
     },
     "execution_count": 13,
     "metadata": {},
     "output_type": "execute_result"
    }
   ],
   "source": [
    "import pandas as pd\n",
    "#importing the pandas module \n",
    "df=pd.read_csv(\"datasets/pokemon.csv\",index_col=\"Pokemon\")\n",
    "#here creating the DataFrame object with index label with Pokemon and theeir Types as values\n",
    "google=df.squeeze(\"columns\")\n",
    "#converting the occurances into percentage in this case\n",
    "google.value_counts(normalize=True)\n",
    "#but we can use the broadcasting to make it as percentage form as below\n",
    "google.value_counts(normalize=True)*100\n",
    "#here it will return in normal pecentage mode"
   ]
  }
 ],
 "metadata": {
  "kernelspec": {
   "display_name": "Python 3 (ipykernel)",
   "language": "python",
   "name": "python3"
  },
  "language_info": {
   "codemirror_mode": {
    "name": "ipython",
    "version": 3
   },
   "file_extension": ".py",
   "mimetype": "text/x-python",
   "name": "python",
   "nbconvert_exporter": "python",
   "pygments_lexer": "ipython3",
   "version": "3.11.2"
  }
 },
 "nbformat": 4,
 "nbformat_minor": 5
}
