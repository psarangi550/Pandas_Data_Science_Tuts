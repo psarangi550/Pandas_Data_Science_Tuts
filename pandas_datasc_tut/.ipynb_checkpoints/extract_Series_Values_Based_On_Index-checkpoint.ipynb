{
 "cells": [
  {
   "cell_type": "markdown",
   "id": "b158119f",
   "metadata": {},
   "source": [
    "# <ins> Extract One Or Multiple Pandas Series Value Based on the Index </ins> #\n",
    "\n",
    "- by using the `index position` we can retrieve the value of `Pandas Series Object`\n",
    "- we can also do the `Slice oprtation` like we do the `pythoon list` we can do the Same thing to the pandas Series object as well\n",
    "- we can also fetch the particular values from the `Pandas Series object`\n",
    "- if we are using the `slicing` then also we will get the `Python Pandas Series object` in return rather than the individual value\n",
    "- if the index not available then we will get the `KeyError` rather than `IndexError` as the index here can be `object or number`\n",
    "- we can fetch multiple values using the `[[<index1>,<index2>,<index3>]]`values\n",
    "- when we fetch the multiple values then we will be getting the `Pandas Series Object` rather than the `Specific values` <br>\n",
    "\n",
    "    ```\n",
    "        <pandas New Series Object> = <Pandas Series Object>[[<index1>,<index2>,<index3>,<index4>]]\n",
    "    ```\n",
    "\n",
    "<br/><br/>\n",
    "\n",
    "- jupyter notebook will autocomplete the `brackets` if we are putting  it on the `code block`\n",
    "- we can't use the `negetive index` value while using the pandas Series object\n",
    "- if we use it then we will be end up getting the `Value Error` in this case \n",
    "\n",
    "<br/><br/>\n",
    "\n",
    "- we can use the `negetive index` if we are using the `Slicing concept` in the pandas series object\n",
    "- this is equivalent to the `tail()` that we have used in the pandas series object\n"
   ]
  },
  {
   "cell_type": "code",
   "execution_count": 22,
   "id": "939dfed2",
   "metadata": {},
   "outputs": [
    {
     "data": {
      "text/plain": [
       "720    Volcanion\n",
       "Name: Pokemon, dtype: object"
      ]
     },
     "execution_count": 22,
     "metadata": {},
     "output_type": "execute_result"
    }
   ],
   "source": [
    "import pandas as pd #importing the  pandas Library \n",
    "df=pd.read_csv(\"datasets/pokemon.csv\",usecols=[\"Pokemon\"]) #creating A Dataframe object with single column value\n",
    "pokemon=df.squeeze(\"columns\") # creating the Pandas Series Object from the DataFrame object\n",
    "pokemon[1] #fetching the values based on the indexing\n",
    "pokemon[1:5] #fetching the value using the slicing \n",
    "pokemon[[1,2,3]] #fetching multiplem values by nesting the square Brackets\n",
    "#pokemon[-1] #fetching the value using the negative index (here we will end up getting the ValueError)\n",
    "pokemon[-20:-5] #fetching the value using the slicing with the negetive index\n",
    "pokemon[-1:] #using the negetive index as slicing operator to fetch the values from the series object\n"
   ]
  }
 ],
 "metadata": {
  "kernelspec": {
   "display_name": "Python 3 (ipykernel)",
   "language": "python",
   "name": "python3"
  },
  "language_info": {
   "codemirror_mode": {
    "name": "ipython",
    "version": 3
   },
   "file_extension": ".py",
   "mimetype": "text/x-python",
   "name": "python",
   "nbconvert_exporter": "python",
   "pygments_lexer": "ipython3",
   "version": "3.11.2"
  }
 },
 "nbformat": 4,
 "nbformat_minor": 5
}
