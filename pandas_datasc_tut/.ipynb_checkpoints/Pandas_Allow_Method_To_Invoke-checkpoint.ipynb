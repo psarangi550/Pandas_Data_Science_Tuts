{
 "cells": [
  {
   "cell_type": "code",
   "execution_count": null,
   "id": "ad4e911d",
   "metadata": {
    "scrolled": true
   },
   "outputs": [
    {
     "name": "stdout",
     "output_type": "stream",
     "text": [
      "Collecting pandas\n",
      "  Using cached pandas-2.0.1-cp39-cp39-win_amd64.whl (10.7 MB)\n",
      "Collecting numpy>=1.20.3\n",
      "  Using cached numpy-1.24.3-cp39-cp39-win_amd64.whl (14.9 MB)\n",
      "Requirement already satisfied: python-dateutil>=2.8.2 in c:\\users\\psara\\miniconda3\\lib\\site-packages (from pandas) (2.8.2)\n",
      "Collecting pytz>=2020.1\n",
      "  Using cached pytz-2023.3-py2.py3-none-any.whl (502 kB)\n",
      "Collecting tzdata>=2022.1\n",
      "  Using cached tzdata-2023.3-py2.py3-none-any.whl (341 kB)\n",
      "Requirement already satisfied: six>=1.5 in c:\\users\\psara\\miniconda3\\lib\\site-packages (from python-dateutil>=2.8.2->pandas) (1.16.0)\n",
      "Installing collected packages: tzdata, pytz, numpy, pandas\n",
      "Successfully installed numpy-1.24.3 pandas-2.0.1 pytz-2023.3 tzdata-2023.3\n"
     ]
    }
   ],
   "source": [
    "! pip install pandas\n",
    "#installing the pandas Module "
   ]
  },
  {
   "cell_type": "code",
   "execution_count": 6,
   "id": "bb300f6d",
   "metadata": {},
   "outputs": [
    {
     "data": {
      "text/plain": [
       "Type\n",
       "Flying     3\n",
       "Fairy     17\n",
       "Steel     22\n",
       "Ice       23\n",
       "Ghost     23\n",
       "Name: count, dtype: int64"
      ]
     },
     "execution_count": 6,
     "metadata": {},
     "output_type": "execute_result"
    }
   ],
   "source": [
    "import pandas as pd\n",
    "#importing the pandas module in this case\n",
    "pokemon=pd.read_csv(\"datasets/pokemon.csv\",index_col=\"Pokemon\").squeeze(\"columns\")\n",
    "# converting the DataFrame Object into the Series Object using the squeeze()\n",
    "pokemon.value_counts(ascending=True)\n",
    "# we can also get the value_count in ascending order as this\n",
    "pokemon.value_counts().sort_values(ascending=True)\n",
    "# we can also use the sort_values() in order to sort it in the Ascending Order \n",
    "pokemon.value_counts().sort_values(ascending=True)[5]\n",
    "# which will provide the Least 5 number of values which been repeated in the Series\n",
    "pokemon.value_counts().sort_values(ascending=True).head()\n",
    "# we can also get the same result using the head() as well"
   ]
  },
  {
   "cell_type": "markdown",
   "id": "3142fa0d",
   "metadata": {},
   "source": [
    "# <ins> Usage Of Apply Methods to invoke Function from pandas Series Object </ins> #\n",
    "\n",
    "- `apply` method allow us to use a function on `every value` of the `Pandas Series Object`\n",
    "- if we want to run the `len()` on every `values` of the `Pandas Series Object` and want to get the result in the term of `another pandas Series Object`\n",
    "- `apply()` will apply the `function` onto each single value and provide the result in the term of new Pandas Series Value \n",
    "- here the `args` will be a function `object` which we want to provide to each value of the `Pandas Series Object`\n",
    "- then all the `value` inside the `Pandas Series Object` will be applied with that method to provide the result \n",
    "- we will get a `pandas Series Object` in return when we apply the `apply()`"
   ]
  },
  {
   "cell_type": "code",
   "execution_count": 4,
   "id": "637f0c40",
   "metadata": {},
   "outputs": [
    {
     "data": {
      "text/plain": [
       "Pokemon\n",
       "Bulbasaur     classic\n",
       "Ivysaur       classic\n",
       "Venusaur      classic\n",
       "Charmander       Fire\n",
       "Charmeleon       Fire\n",
       "               ...   \n",
       "Yveltal          Dark\n",
       "Zygarde        Dragon\n",
       "Diancie          Rock\n",
       "Hoopa         Psychic\n",
       "Volcanion        Fire\n",
       "Name: Type, Length: 721, dtype: object"
      ]
     },
     "execution_count": 4,
     "metadata": {},
     "output_type": "execute_result"
    }
   ],
   "source": [
    "import pandas as pd\n",
    "#importing the oandas module in here\n",
    "#creating a custom defined fuinction which will return the classic if the Type belong to `Grass` or `Water`\n",
    "def foo(x:str)->str:\n",
    "    if x in [\"Grass\",\"Water\"]:\n",
    "        return \"classic\"\n",
    "    else:\n",
    "        return x\n",
    "df=pd.read_csv(\"datasets/pokemon.csv\",index_col=\"Pokemon\")\n",
    "#creating the DataFrame object from pandas Library\n",
    "pokemon=df.squeeze(\"columns\")\n",
    "#creating the pandas Series Object from the DataFrame object\n",
    "pokemon.apply(foo)\n",
    "#using the apply method we are using the method for each value in the pandas series object\n",
    "# we can also use the python core function as well in here"
   ]
  },
  {
   "cell_type": "code",
   "execution_count": null,
   "id": "db07b1fa",
   "metadata": {},
   "outputs": [],
   "source": []
  },
  {
   "cell_type": "code",
   "execution_count": null,
   "id": "2eea196e",
   "metadata": {},
   "outputs": [],
   "source": []
  },
  {
   "cell_type": "code",
   "execution_count": null,
   "id": "a5f03a93",
   "metadata": {},
   "outputs": [],
   "source": []
  },
  {
   "cell_type": "code",
   "execution_count": null,
   "id": "cb4ac849",
   "metadata": {},
   "outputs": [],
   "source": []
  },
  {
   "cell_type": "code",
   "execution_count": null,
   "id": "2baeb18a",
   "metadata": {},
   "outputs": [],
   "source": []
  },
  {
   "cell_type": "code",
   "execution_count": null,
   "id": "0eaa90c3",
   "metadata": {},
   "outputs": [],
   "source": []
  }
 ],
 "metadata": {
  "kernelspec": {
   "display_name": "Python 3 (ipykernel)",
   "language": "python",
   "name": "python3"
  },
  "language_info": {
   "codemirror_mode": {
    "name": "ipython",
    "version": 3
   },
   "file_extension": ".py",
   "mimetype": "text/x-python",
   "name": "python",
   "nbconvert_exporter": "python",
   "pygments_lexer": "ipython3",
   "version": "3.9.5"
  }
 },
 "nbformat": 4,
 "nbformat_minor": 5
}
