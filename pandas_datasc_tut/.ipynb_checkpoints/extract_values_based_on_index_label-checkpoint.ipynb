{
 "cells": [
  {
   "cell_type": "markdown",
   "id": "c3d7e55c",
   "metadata": {},
   "source": [
    "# <ins> Fetching the Pandas Series Value using the Index Label </ins> #\n",
    "\n",
    "- here if the `index label` not a number rather than that `Any Other such object`\n",
    "- as `Pandas Serie object` can keep a track of both the `index position` and `index number`\n",
    "- hence we can track it by the `previous way using the indexing`\n",
    "- we can also use the `index label as key` in order to fetch the `values` from the `Pandas Series object`\n",
    "    ```\n",
    "        <particular values>=<pandas Series object>[\"<index key>\"]\n",
    "        <pandas New Series Value>=<pandas Series object>[[\"<index key 1>\",\"<index key 2>\",<index key 3>]]\n",
    "    ```\n",
    "    \n",
    "<br/><br/>\n",
    "\n",
    "- if we have duplicated `index label` unlike the `python dict` then in that case we will get all the `values` associated with it\n",
    "- if we have a single valued `index label` then we will get the `particular value`\n",
    "- if we have multiple valued `index label` then we will get the `Pandas Series object in return`\n",
    "\n",
    "<br/><br/>\n",
    "\n",
    "- if `key` does not exist then we will get the `Key Error` in that case \n",
    "- if we are searching the `New Pandas Series object` using the `multi values index label as list` then if one of key not present in that case also we will end up getting the `Key Error`\n",
    "- while using the `multi values key index ` the `error i.e the Key Error ` itself told that why the error been happening "
   ]
  },
  {
   "cell_type": "code",
   "execution_count": 7,
   "id": "8d2d4b00",
   "metadata": {},
   "outputs": [
    {
     "data": {
      "text/plain": [
       "Pokemon\n",
       "Bulbasaur    Grass\n",
       "Ivysaur      Grass\n",
       "Name: Type, dtype: object"
      ]
     },
     "execution_count": 7,
     "metadata": {},
     "output_type": "execute_result"
    }
   ],
   "source": [
    "import pandas as pd #importing the pandas module over here \n",
    "df=pd.read_csv(\"datasets/pokemon.csv\",index_col=\"Pokemon\") # fetching the DataFrame object with index label as the Pokemon\n",
    "pokemon=df.squeeze(\"columns\") #creating the Series Object from the DataFrame object\n",
    "pokemon[0] #fetching the value using the index position\n",
    "pokemon.head() #fetching the first 5 values using the head() which show by default first 5 values\n",
    "# pokemon[\"Bulbasaur\"] #fetching the values from the index label which is a string Key\n",
    "pokemon[[\"Bulbasaur\",\"Ivysaur\"]] #fetching multiple values as the pandas Series Object using the key as the python list object"
   ]
  }
 ],
 "metadata": {
  "kernelspec": {
   "display_name": "Python 3 (ipykernel)",
   "language": "python",
   "name": "python3"
  },
  "language_info": {
   "codemirror_mode": {
    "name": "ipython",
    "version": 3
   },
   "file_extension": ".py",
   "mimetype": "text/x-python",
   "name": "python",
   "nbconvert_exporter": "python",
   "pygments_lexer": "ipython3",
   "version": "3.11.2"
  }
 },
 "nbformat": 4,
 "nbformat_minor": 5
}
