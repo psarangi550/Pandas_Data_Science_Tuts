{
 "cells": [
  {
   "cell_type": "markdown",
   "id": "5b9924f0",
   "metadata": {},
   "source": [
    "# <ins> Math Methods With Pandas Series Object </ins> #\n",
    "\n",
    "- when we have `mutation` problem then we need to go for the `copy` of the `Pandas Series Object` rather than a view of the `DataFrame object` which is by default \n",
    "- when we perform the `math` operation there will not be any mutation problem hence we don't need to `copy` the original Series\n",
    "- `count()` on the `pandas Series object` which provide the `number of not null series values on the pandas Series Object `\n",
    "- if we have a `null pandas Series value or missing values` then it will not be considered \n",
    "- all the `missing or null values` will be ignored in this case\n",
    "<br/><br/>\n",
    "- `sum()`on the `Pandas Series Object` will return the `sum of all the values in the Pandas Series Object`\n",
    "- `mean()` on the `Pandas Series Object` will return the `average of all values in the Pandas Series Object`\n",
    "- `product()` on the `Pandas Series object` will return the `product of all values in the Pandas Series Object`\n",
    "- The Standard Deviation i.e `std()` on the pandas Series Object `will return the standard deviation from the average value of Pandas Series Object values`\n",
    "<br/><br/>\n",
    "- we can pass the `Pandas Series Object` to the `min and max` python inbuild method so nthat we can get the `minimum and maximum values`\n",
    "- we cal also use the `min()` on the `Pandas Series Object` which will return the minimum value from `Pandas Series Object`\n",
    "- we cal also use the `max()` on the `Pandas Series Object` which will return the maximum value from `Pandas Series Object`\n",
    "- we can also call the `median()` `Pandas Series Object` which will return the `medium` Pandas Series Object values when we sort it in either `Ascending or Descending order`\n",
    "- `median` is the `50%` of the Pandas Series Values where `first 50% will fall before` and `rest 50% will fall after`\n",
    "<br/><br/>\n",
    "- the `mode()` on the pandas Series Object will provide the `mostly occured Pandas Series value` in the Pandas Series Object and return a `Pandas Series Object` \n",
    "- we can also use the `describe()` on the `Pandas Series Object` which will provide another Pandas Series Object `with all the aggregation operation` such as below index and its corresponding value\n",
    "    - count\n",
    "    - mean\n",
    "    - std\n",
    "    - max\n",
    "    - 25%\n",
    "    - 50%\n",
    "    - 75% \n",
    "- it will be a `Pandas Series Object` with floating point Values \n",
    "- we will be getting all the `Statistics related info` when we use the `describe()` on the `Pandas Series Object`\n"
   ]
  },
  {
   "cell_type": "code",
   "execution_count": 8,
   "id": "a6656569",
   "metadata": {},
   "outputs": [
    {
     "data": {
      "text/plain": [
       "49.95"
      ]
     },
     "execution_count": 8,
     "metadata": {},
     "output_type": "execute_result"
    }
   ],
   "source": [
    "import pandas as pd #importing the Pandas Module in here\n",
    "df=pd.read_csv(\"datasets/google_stock_price.csv\",usecols=[\"Stock Price\"])\n",
    "#creating the DataFrame object from the pandas Library\n",
    "google=df.squeeze(\"columns\")\n",
    "#creating the Series Object from the DataFrame object\n",
    "google.count() #which will provide all the non zero value count \n",
    "google.sum() # we can get the sum of pandas Series object using the sum()\n",
    "google.product() # we can also get the pandas Series Object product value using the product method\n",
    "google.mean() # getting the average using the mean() on the pandas Series Object\n",
    "#now fetching the min and max and median values uisng the min(),max() and median()\n",
    "google.max()\n",
    "#or we can use the pandas inbuild max() for the same\n",
    "max(google) #passing the Pandas Series object into the inbuild max() in  here\n",
    "#similarly we can do the same thing for min() using the min() on pandas Series Object\n",
    "google.min()\n",
    "#using the inbuild min() to fetch the minimum value\n",
    "# min(google)\n",
    "#fetching the median value which is the 50% of the value sorted in any order is\n",
    "# google.median()\n",
    "#now fetching the maximun occurances using the mode()\\\n",
    "# google.mode()\n",
    "#fetching the  decription using the describe()\n",
    "# google.describe()"
   ]
  }
 ],
 "metadata": {
  "kernelspec": {
   "display_name": "Python 3 (ipykernel)",
   "language": "python",
   "name": "python3"
  },
  "language_info": {
   "codemirror_mode": {
    "name": "ipython",
    "version": 3
   },
   "file_extension": ".py",
   "mimetype": "text/x-python",
   "name": "python",
   "nbconvert_exporter": "python",
   "pygments_lexer": "ipython3",
   "version": "3.11.2"
  }
 },
 "nbformat": 4,
 "nbformat_minor": 5
}
