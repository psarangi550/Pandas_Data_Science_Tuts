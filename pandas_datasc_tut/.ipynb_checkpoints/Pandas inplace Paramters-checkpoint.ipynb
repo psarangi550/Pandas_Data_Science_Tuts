{
 "cells": [
  {
   "cell_type": "markdown",
   "id": "ac4a3282",
   "metadata": {},
   "source": [
    "# <ins> Pandas inplace Parameter </ins> #\n",
    "\n",
    "- The `inplace` parameter found in number of methods in Pandas Eco System\n",
    "- The `inplace` parameter will `modify the existing state of the Pandas Object` when we apply some methods into it\n",
    "- but incase check whether the Series Object is a separate independent copy which is not lionked to the DataFrame object \n",
    "- this `copy` method should be the `pre-requisite` before applying the `Pandas InPlace parameter `\n",
    "- the requirement to use the `inplace` params that it should not be a `view` to the pandas DataSource\n",
    "- inorder to use the inplace paramter is that the `Series object` should not a `view or prospect of a Larger object`\n",
    "- the `copy` method ensure that the independent object which is not connected to any other object \n",
    "<br/><br/>\n",
    "- we can break a line in python using the parenthesis where we can break each args with comma separated values\n",
    "- the `sort_values()` on the `Pandas Series Object` will  return the values of the `Pandas Series object` in ascending Manner\n",
    "- we can provide the `ascending=False` in order to order the `values of Pandas Series Object` in descending manner\n",
    "<br><br/>\n",
    "- after `sort_values()` on the pandas object we can see the values been modified based on the `pandas Series Object vaue`\n",
    "- but now if we want to make it as permnanent change the `Pandas Series Object` then we can do that by `Equality operator` as below \n",
    "- in python generally the `evaluation of right side expression happen first followed by the variable assignment later`\n",
    "<br><br/>\n",
    "- when we call the `sort_values()` will not change the original `Series Object Values` i.e it will not mutate the changes\n",
    "- the `sort_values()` will provide the new prospect of the existing Series Object values \n",
    "- the sort_values() has a `inplace` paramter which default value been set to `False`\n",
    "- we can convert the existing Pandas Series object into the `pandas Series Object with sorted value` inplace by using the `inplace` paramters into it\n",
    "- by default the `inplace` paramter set to `False` hence it will not `mutate` original series \n",
    "- but if we mention the `inplace` paramter as True then we can change the original Series Object itself\n",
    "- when we use the `inplace=True` then the `sort_values()` will change the `series Object` on which it been called on\n",
    "- if we are changing the `inplace=True` then it will not return anything but if we are checking the `Series Object` where the sort_values method been called with `inplace=True` then those values were now being changed\n",
    "- here incase of `inplace` paramter the value will be `overwritten` in the `Pandas Original Series Object`\n",
    "<br/><br/>\n",
    "- under the hood the `inplace` paramter will also create a separate independent copy `Series Object`\n",
    "- The it perform the `sort_value()` on the copied `Series Object` and then assign that `sort value copies onto the existing one like we have done earlier (same as the Equality Operator)`\n",
    "- Hence it not like a memoey efficient approach which been getting performed it also uses the same memory as we use with the `Equality operator`\n",
    "- the `sort_values() with inplace params as True will be going to deprecated on the coming version of pandas`\n",
    "- even though it gives an illusion of creating a separate object but under the hood it create the separate copy of pandas Series Object \n",
    "<br/><br/>\n",
    "- The Same usage can be done for the `sort_index` method as well like for `sort_values`\n",
    "- the `inplace` params make changes to the original Series and making it as permanent for the `Original Data Series`\n",
    "\n",
    "# <ins> What Happens If we don't Create the Copy of Pandas Series object Before using the inplace params </ins> #\n",
    "\n",
    "- when we invoke the `sort_values()` without the inplace paramter then we will get the `new sorted values Series`\n",
    "- but when we assign that to the existing series object then in that case we will get an `ValueError` as the `series still been linked to the Original Data Source that is the Pandas DataFrame` \n",
    "- if the Saeries Object linked to the Dataframe Which is by default then we can still modify the `DataFrame` as its already linked hence we will get the pandas Error \n"
   ]
  },
  {
   "cell_type": "code",
   "execution_count": 10,
   "id": "47e78579",
   "metadata": {},
   "outputs": [],
   "source": [
    "import pandas as pd\n",
    "# importing the pandas library from from pandas module \n",
    "google=(\n",
    "    pd.read_csv(\n",
    "        \"datasets/google_stock_price.csv\",\n",
    "        usecols=[\"Stock Price\"]\n",
    "    )\n",
    "    .squeeze(\"columns\")\n",
    "    .copy()\n",
    ")\n",
    "#reading the csv creating the DataFrameObject and then converting that to the Series Object and then making own independent copy using the copy() on the series object\n"
   ]
  },
  {
   "cell_type": "code",
   "execution_count": 9,
   "id": "27e3a189",
   "metadata": {},
   "outputs": [
    {
     "data": {
      "text/plain": [
       "11       49.95\n",
       "9        50.07\n",
       "0        50.12\n",
       "10       50.70\n",
       "12       50.74\n",
       "         ...  \n",
       "3010    771.61\n",
       "3007    772.88\n",
       "3009    773.18\n",
       "2859    776.60\n",
       "3011    782.22\n",
       "Name: Stock Price, Length: 3012, dtype: float64"
      ]
     },
     "execution_count": 9,
     "metadata": {},
     "output_type": "execute_result"
    }
   ],
   "source": [
    "import pandas as pd\n",
    "# importing the pandas library from from pandas module \n",
    "google=(\n",
    "    pd.read_csv(\n",
    "        \"datasets/google_stock_price.csv\",\n",
    "        usecols=[\"Stock Price\"]\n",
    "    )\n",
    "    .squeeze(\"columns\")\n",
    "    .copy()\n",
    ")\n",
    "#reading the csv creating the DataFrameObject and then converting that to the Series Object and then making own independent copy using the copy() on the series object\n",
    "google_sorted_values=google.sort_values()\n",
    "#making the google series value as sorted based on the Value of the pandas Series Obejct \n",
    "google_sorted_values\n",
    "#now if we want to change the google Series Object as per the google_sorted_values then we can do that as below \n",
    "google=google_sorted_values\n",
    "#printing the Pandas Series Object in this case\n",
    "google"
   ]
  }
 ],
 "metadata": {
  "kernelspec": {
   "display_name": "Python 3 (ipykernel)",
   "language": "python",
   "name": "python3"
  },
  "language_info": {
   "codemirror_mode": {
    "name": "ipython",
    "version": 3
   },
   "file_extension": ".py",
   "mimetype": "text/x-python",
   "name": "python",
   "nbconvert_exporter": "python",
   "pygments_lexer": "ipython3",
   "version": "3.11.2"
  }
 },
 "nbformat": 4,
 "nbformat_minor": 5
}
