{
 "cells": [
  {
   "cell_type": "markdown",
   "id": "77549e2d",
   "metadata": {},
   "source": [
    "# <ins> Broadcasting in Pandas Series Object </ins> #\n",
    "\n",
    "- `Broadcasting` means performing mathemetical operation to each values in the Pandas Series Object \n",
    "- like a radio station when broadcast the message and all the redio will get the same messages thats the concept in here\n",
    "- Lets suppose if we want to add `certain` values to the `Pandas Series Object values`\n",
    "- the syntax for the broadcasting is `<pandas Series Object>+10` which add `10` to every value inside the `Pandas Series Object`\n",
    "- all the `arthimatic operation` can be applied in here \n",
    "<br/><br/>\n",
    "- All the operation that we perform is not a `mutation` with each changes it create a separate `Pandas Series Object` without modifying the original Series like `sort_values/sort_index` method\n",
    "- we can also use the `add()` on the `pandas Series Object` which will so the same operation as `+` operator does\n",
    "- for `every single arthmatic operation` we have function which does the same exact thing \n",
    "\n"
   ]
  },
  {
   "cell_type": "code",
   "execution_count": 2,
   "id": "d8b2abbb",
   "metadata": {},
   "outputs": [
    {
     "data": {
      "text/plain": [
       "0        60.12\n",
       "1        64.10\n",
       "2        64.65\n",
       "3        62.38\n",
       "4        62.95\n",
       "         ...  \n",
       "3007    782.88\n",
       "3008    781.07\n",
       "3009    783.18\n",
       "3010    781.61\n",
       "3011    792.22\n",
       "Name: Stock Price, Length: 3012, dtype: float64"
      ]
     },
     "execution_count": 2,
     "metadata": {},
     "output_type": "execute_result"
    }
   ],
   "source": [
    "import pandas as pd #importing the pandas module\n",
    "google=pd.read_csv(\"datasets/google_stock_price.csv\",usecols=[\"Stock Price\"]).squeeze(\"columns\")\n",
    "#creating the Pandas Series Object from the DataFrame Object \n",
    "google+10 #here 10 value will added to each and every value of the google Pandas Series Object\n",
    "#or we can also use the add()/substract() to do the Same thing \n",
    "#imp to note that here no kutation will happen i will create a new Pandas Series Object with the changes and return the value along with it \n",
    "google.add(10)"
   ]
  }
 ],
 "metadata": {
  "kernelspec": {
   "display_name": "Python 3 (ipykernel)",
   "language": "python",
   "name": "python3"
  },
  "language_info": {
   "codemirror_mode": {
    "name": "ipython",
    "version": 3
   },
   "file_extension": ".py",
   "mimetype": "text/x-python",
   "name": "python",
   "nbconvert_exporter": "python",
   "pygments_lexer": "ipython3",
   "version": "3.11.2"
  }
 },
 "nbformat": 4,
 "nbformat_minor": 5
}
