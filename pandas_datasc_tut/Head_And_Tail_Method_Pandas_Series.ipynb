{
 "cells": [
  {
   "cell_type": "markdown",
   "id": "b9516087",
   "metadata": {},
   "source": [
    "##### <ins>Head And Tail Method In Pandas Series \n",
    "    - both the `head/tail` method on the pandas series object return a specified number of `rows` from the beginning or from the end\n",
    "    - by default the `head()` on the pandas series object will return the first 5 rows of data available from the `Series Object`\n",
    "    - we can also provide the paramter as `n` which define how many rows of data that we want to see from the `Series` object from the `beginning`\n",
    "    \n",
    "        ```\n",
    "            <pandas Series Object>.head() #  by defualt return the 5 rows from the beginning\n",
    "            <pandas Series Object>.head(n=<number of rows we want to see>) #  by default  return the number of n rows from the beginning \n",
    "        ```\n",
    "    \n",
    "    -  `tail` method on the `Series` object will return in the Same Fashion `5 by default` from the `last ` and also define the paramter how many number of rows we want from the last \n",
    "        \n",
    "        ```\n",
    "            <pandas Series Object>.tail() #  by defualt return the 5 rows from the End\n",
    "            <pandas Series Object>.tail(n=<number of rows we want to see>) #  by default  return the number of n rows from the End \n",
    "        ```\n",
    "\n",
    "    "
   ]
  },
  {
   "cell_type": "code",
   "execution_count": 3,
   "id": "0c37b1c7",
   "metadata": {},
   "outputs": [
    {
     "data": {
      "text/plain": [
       "0    50.12\n",
       "1    54.10\n",
       "2    54.65\n",
       "3    52.38\n",
       "4    52.95\n",
       "Name: Stock Price, dtype: float64"
      ]
     },
     "execution_count": 3,
     "metadata": {},
     "output_type": "execute_result"
    }
   ],
   "source": [
    "import pandas as pd\n",
    "#importing the pandas module\n",
    "df=pd.read_csv(\"datasets/google_stock_price.csv\",usecols=[\"Stock Price\"])\n",
    "#creating the DataFrame object with One column to create the Series object\n",
    "google=df.squeeze(\"columns\")\n",
    "#creating the Series Object from the DataFrame Object\n",
    "google.head()\n",
    "#fetching the default head from the pandas module\n"
   ]
  },
  {
   "cell_type": "markdown",
   "id": "2c9c5834",
   "metadata": {},
   "source": [
    "#####  <ins>Copies vs Views in Pandas Documentation\n",
    "    - copies is a `separate copy` of an object\n",
    "    - where as the views `another prospective of an existing object` which does not mean separate object but just a different view of it\n",
    "    - when we perform the `head/tail` method on the existing `pandas Series` we are not creting a new series rather we are zooming into the Same Series which in this case consider as a view\n",
    "    - if in the `view` we have updated the `data` then the `Series can also be mutated`\n",
    "    - But in case of `copy` as its a separate copy hence those changes will not get affected"
   ]
  }
 ],
 "metadata": {
  "interpreter": {
   "hash": "862e13e9cc27fb8d897d1fe04b81438f37e0a6a9f1787239444109a600f4c9e1"
  },
  "kernelspec": {
   "display_name": "Python 3.11.2 ('pandas_playground')",
   "language": "python",
   "name": "python3"
  },
  "language_info": {
   "codemirror_mode": {
    "name": "ipython",
    "version": 3
   },
   "file_extension": ".py",
   "mimetype": "text/x-python",
   "name": "python",
   "nbconvert_exporter": "python",
   "pygments_lexer": "ipython3",
   "version": "3.11.2"
  }
 },
 "nbformat": 4,
 "nbformat_minor": 5
}
