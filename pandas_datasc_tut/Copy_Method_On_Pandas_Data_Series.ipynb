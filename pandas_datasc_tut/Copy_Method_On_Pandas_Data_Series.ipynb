{
 "cells": [
  {
   "cell_type": "markdown",
   "id": "3a6f6a13",
   "metadata": {},
   "source": [
    "# <ins> Copy Method On Pandas Series Object </ins> #\n",
    "\n",
    "- here we will learn about the difference between the `copies vs views`\n",
    "- we can pass an args to the `head()` which will provide the specified number of column from the `beginning of the Pandas Series Object`\n",
    "- when we made changes to the `Pandas Series Object` even the `DataFrame object` which being created are also going to be get changed by default\n",
    "- so the `Pandas Series object` and `Pandas DataFrame object` will not be decoupled by default \n",
    "- when we change the `Pandas Series Object` has side effect on the `Pandas DataFrame Object`\n",
    "- when we create the `Pandas Series Object` pandas actually derived the Series from the DataFrame not making a separate copy of it\n",
    "- It basically uses the `Pandas Series` as a view on the `Pandas DataFrame Object` that we created\n",
    "- So we can safely say the `Pandas Series Object` is just a `prospective or view ` over the `Pandas DataFrame object `\n",
    "- when we create the `Pandas Series Object` from the `DataFrame object` it does not come as a separate copy but rather than that it cam e as the linked value\n",
    "<br/><br/>\n",
    "\n",
    "- Example :-\n",
    "    - The DataFrame object can be considered as `Big House` but the `Series Object` created from it consider as the `Door`\n",
    "    - by default the `Big House` been linked to the `Door` so we can say `Door` is just a `view or prospective of the Big House`\n",
    "    - when we make changes to our `Door` then We can also impact the `Big House` which is the larger DataSource\n",
    "    - similarly as the Pandas Series object were Derived from the DataFrame and Still has the `link` hence changing that will change the `Pandas Data Frame`\n",
    "    - Hence if we paint the `Door` as red that will have the impact on the `Big House`\n",
    "    - so we need to decouple those if we want to avoid making change to the larger DataFrame object\n",
    "    \n",
    "<br/><br/>\n",
    "\n",
    "- we can avoid that reference by making a separate independent copy of `pandas Series Object` which is not linked to the `DataFrame object`\n",
    "- so that when we made changes to the `Derived Series Object` which is `separate` will not impact the `Pandas DataFrame Object`\n",
    "- we can use the below syntax in order to create the `Separate series` which is not linked to the `DataFrame` its been derived on\n",
    "\n",
    "   ```\n",
    "       import pandas as pd #importing the pandas module in here\n",
    "       df=pd.read_csv(\"datasets/pokemon.csv\",usecols=[\"Pokemon\"])\n",
    "       #creating the DataFrame object from the csv file with only one column\n",
    "       #here we can use the copy() while creating the Series Object from the DataFrame object so that they will not be linked\n",
    "       pokemon_series_data_copy=df.squeeze(\"columns\").copy()\n",
    "       #using the copy() here we are creaing a separate series which is not linked to the DataFrame object\n",
    "       pokemon_series_data_copy #this is the brand new Pandas Series bject and if we are overwriting the value will not impact the DataFrame\n",
    "       pokemon_series_data_copy[0]=\"Whatever\"\n",
    "       #here we are chanign it suing the index position rather than the index label\n",
    "       #now if we see the pandas DataFrame that will strill remain be immune \n",
    "       df #the DataFrame has the Old Value in this case\n",
    "   ```\n",
    "   \n",
    "- using the `copy()` on the `Pandas Series Object derived from DataFrame object` we decoupled the `DataFrame to the Newly created Pandas Series Object`\n",
    "- by using the `copy()` we clone the `Pandas Series object` which is no way related to the Base `DataFrame object`\n",
    "\n",
    "\n",
    "# <ins>Summary</ins> #\n",
    "\n",
    "- A `Copy` is the `separate clone of the Original DataSource` which will not impact its DataSource if a changes made to the `Cloned Series`\n",
    "- A `View` is a `Prospective` of Larger `DataSource` such as `DataFrame`\n",
    "- if we are making a change in our `view` that will impact the `DataSource` from where its been derived\n",
    "- when making the changes make sure whether thats a view which can iimpact the DataSource or is it a copy of pandas Series object\n",
    "\n"
   ]
  },
  {
   "cell_type": "code",
   "execution_count": 7,
   "id": "0e6cbec9",
   "metadata": {},
   "outputs": [
    {
     "data": {
      "text/plain": [
       "0    Whatever\n",
       "Name: Pokemon, dtype: object"
      ]
     },
     "execution_count": 7,
     "metadata": {},
     "output_type": "execute_result"
    }
   ],
   "source": [
    "import pandas as pd #importing the pandas module in here\n",
    "df=pd.read_csv(\"datasets/pokemon.csv\",usecols=[\"Pokemon\"])\n",
    "#creating the DataFrame object from the csv file with only one column\n",
    "#here we can use the copy() while creating the Series Object from the DataFrame object so that they will not be linked\n",
    "pokemon_series_data_copy=df.squeeze(\"columns\").copy()\n",
    "#using the copy() here we are creaing a separate series which is not linked to the DataFrame object\n",
    "pokemon_series_data_copy #this is the brand new Pandas Series bject and if we are overwriting the value will not impact the DataFrame\n",
    "pokemon_series_data_copy[0]=\"Whatever\"\n",
    "#here we are chanign it suing the index position rather than the index label\n",
    "#fetching the first value using the head()\n",
    "pokemon_series_data_copy.head(1)\n",
    "#now if we see the pandas DataFrame that will strill remain be immune \n",
    "# df #the DataFrame has the Old Value in this case"
   ]
  },
  {
   "cell_type": "code",
   "execution_count": null,
   "id": "580388be",
   "metadata": {},
   "outputs": [],
   "source": []
  }
 ],
 "metadata": {
  "kernelspec": {
   "display_name": "Python 3 (ipykernel)",
   "language": "python",
   "name": "python3"
  },
  "language_info": {
   "codemirror_mode": {
    "name": "ipython",
    "version": 3
   },
   "file_extension": ".py",
   "mimetype": "text/x-python",
   "name": "python",
   "nbconvert_exporter": "python",
   "pygments_lexer": "ipython3",
   "version": "3.11.2"
  }
 },
 "nbformat": 4,
 "nbformat_minor": 5
}
