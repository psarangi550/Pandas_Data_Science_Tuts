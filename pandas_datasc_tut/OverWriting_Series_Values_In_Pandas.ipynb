{
 "cells": [
  {
   "cell_type": "markdown",
   "id": "219317df",
   "metadata": {},
   "source": [
    "# <ins>OverWrite Pandas Series Object Values </ins> #\n",
    "\n",
    "- here we will learn `How to Overide the Pandas Series Object single or Multiple values Based on the Index Position or Index Label`\n",
    "- by using like `list value assignments` we can assign a new value into the `Pandas Series Object single or multiple values`\n",
    "- But when we are doing the overwriting the value in the `Pandas Series Object` only going to change not in the `CSV`\n",
    "- if the `index position or index label` does not exist then `it will create the index label as well as the values inside the pandas Series Object`\n",
    "- But while adding the `length of the pandas Series Object` just be increased by the number of item we added for which index position or index label not exists\n",
    "- we can also see those values will be added to the `end of the Pandas Series Object`\n",
    "- the `index position` of those will be increased by 1 but the `index label` will become the value we provided while assigning\n",
    "\n",
    "# <ins> How to OverWrite Multiple Values in Pandas Series Object using the index position or Index Label </ins> #\n",
    "\n",
    "- here in order to change the `multiple values from pandas series object` we need to first fetch values corresponding to those index label or index position\n",
    "- for that we can use the syntax as \n",
    "  ```\n",
    "  <pd Series Object>[[<index label1/pos1>,<index label2/pos2>]]=[<list val1>,<list val2>]\n",
    "  ```\n",
    "- "
   ]
  },
  {
   "cell_type": "code",
   "execution_count": 12,
   "id": "9b557c5f",
   "metadata": {},
   "outputs": [
    {
     "data": {
      "text/plain": [
       "0    50.14\n",
       "1    54.10\n",
       "2    54.65\n",
       "3    52.38\n",
       "4    52.96\n",
       "Name: Stock Price, dtype: float64"
      ]
     },
     "execution_count": 12,
     "metadata": {},
     "output_type": "execute_result"
    }
   ],
   "source": [
    "import pandas as pd\n",
    "#importing the pandas module\n",
    "df=pd.read_csv(\"datasets/google_stock_price.csv\",usecols=[\"Stock Price\"])\n",
    "#creating the DataFrame Object from read_csv() for a single column\n",
    "google=df.squeeze(\"columns\")\n",
    "#converting the DataFrame to Series Object\n",
    "google[0]=50.13\n",
    "#assigning /OverWriting the values of the Pandas Series Value Bases on index position or index label in this case both being same\n",
    "google[[0,4]]=[50.14,52.96]\n",
    "google.head() #fetching the First Few Values Out in here\n"
   ]
  },
  {
   "cell_type": "code",
   "execution_count": 19,
   "id": "53687c61",
   "metadata": {},
   "outputs": [
    {
     "data": {
      "text/plain": [
       "Pokemon\n",
       "Bulbasaur     Awsomemon\n",
       "Ivysaur          Ivymon\n",
       "Venusaur          Grass\n",
       "Charmander         Fire\n",
       "Charmeleon         Fire\n",
       "Name: Type, dtype: object"
      ]
     },
     "execution_count": 19,
     "metadata": {},
     "output_type": "execute_result"
    }
   ],
   "source": [
    "import pandas as pd\n",
    "#importing the pandas module in here\n",
    "df=pd.read_csv(\"datasets/pokemon.csv\",index_col=\"Pokemon\")\n",
    "#creating the DataFrame Object in thisd case over here with index label as Pokemon and values as Type\n",
    "pokemon=df.squeeze(\"columns\")\n",
    "#converting the DataFrame Object into the Series Object in here\n",
    "pokemon[\"Bulbasaur\"]= \"Awsomemon\"\n",
    "#overwriting one values in here to Awsomemon\n",
    "pokemon[[\"Bulbasaur\",\"Ivysaur\"]]=[\"Awsomemon\",\"Ivymon\"]\n",
    "#chanign multiple values based on the fly using the list of values\n",
    "pokemon.head() #fetching first 5 values from the Series Object using the head()\n"
   ]
  }
 ],
 "metadata": {
  "kernelspec": {
   "display_name": "Python 3 (ipykernel)",
   "language": "python",
   "name": "python3"
  },
  "language_info": {
   "codemirror_mode": {
    "name": "ipython",
    "version": 3
   },
   "file_extension": ".py",
   "mimetype": "text/x-python",
   "name": "python",
   "nbconvert_exporter": "python",
   "pygments_lexer": "ipython3",
   "version": "3.11.2"
  }
 },
 "nbformat": 4,
 "nbformat_minor": 5
}
