{
 "cells": [
  {
   "cell_type": "markdown",
   "id": "a8b5af32",
   "metadata": {},
   "source": [
    "#  <ins> Using get Method to Fetch the values from Pandas Series Object </ins> #\n",
    "\n",
    "- By using the `get method` we can get the values from the `Pandas Series Object` from the `index position` or `index label`\n",
    "- The `get method` help in avoiding the `keyError` and also we can assign a `FallBack` value while using the `get` method\n",
    "- we can provide the `index position` or `index label` to the `get()` on the `Pandas Series Object` in order to get the `value associated from the Pandas Series Object`\n",
    "- we can also pass the `group of index position or index label as list` into the `get method` so that we will be getting the `Pandas Series object` in return rather than the `Particular value`\n",
    "- when we don't have the `index position or index label` then the `get method` will return the Value as None and hence we need to print it in order to get the value \n",
    "- by default the `default value` for the `get method` is None and  if the `index position or index label` not found then we will get the `None` Value in return \n",
    "- if we are looking for Multiple values then we will get the `Fallback value` if it did not able to fetch the value from Pandas Series Object for any `index label or index position`\n",
    "\n",
    "<br/> <br/>\n",
    "\n",
    "- in `jupyter notebook` if the last executed value comes as `None` then nothing will be printed onto the Screen\n",
    "- by using the `print()` we can print the value into the jupyter notebook console \n"
   ]
  },
  {
   "cell_type": "code",
   "execution_count": 11,
   "id": "3d7f1a4b",
   "metadata": {},
   "outputs": [
    {
     "data": {
      "text/plain": [
       "'Non-Existance'"
      ]
     },
     "execution_count": 11,
     "metadata": {},
     "output_type": "execute_result"
    }
   ],
   "source": [
    "import pandas as pd #importing the pandas module\n",
    "#creating the DataFrame object with index label corresponds to Pokemon\n",
    "df=pd.read_csv(\"datasets/pokemon.csv\",index_col=\"Pokemon\")\n",
    "#fetching the series object from the DataFrame\n",
    "pokemon=df.squeeze(\"columns\")\n",
    "#fetching the value using the get() using the index label\n",
    "# pokemon.get(\"Bulbasaur\")\n",
    "#fetching multiple values as Pandas Series Object using the get() with multiple index paramter\n",
    "# pokemon.get([\"Bulbasaur\",\"Meowth\"])\n",
    "# if the index label not present then we will be getting the None value as return\n",
    "# print(pokemon.get(\"digimon\"))\n",
    "#we can also provide the default value into it as well \n",
    "pokemon.get(\"digimon\",\"Non Existence\")\n",
    "#if we are looking for Multiple values then we will get the `Fallback value` if it did not able to fetch the value from Pandas Series Object\n",
    "pokemon.get([\"Bulbasaur\",\"digimon\"],\"Non-Existance\")\n"
   ]
  }
 ],
 "metadata": {
  "kernelspec": {
   "display_name": "Python 3 (ipykernel)",
   "language": "python",
   "name": "python3"
  },
  "language_info": {
   "codemirror_mode": {
    "name": "ipython",
    "version": 3
   },
   "file_extension": ".py",
   "mimetype": "text/x-python",
   "name": "python",
   "nbconvert_exporter": "python",
   "pygments_lexer": "ipython3",
   "version": "3.11.2"
  }
 },
 "nbformat": 4,
 "nbformat_minor": 5
}
