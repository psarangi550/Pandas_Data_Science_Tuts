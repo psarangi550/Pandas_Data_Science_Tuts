{
 "cells": [
  {
   "cell_type": "markdown",
   "id": "f3ee59b7",
   "metadata": {},
   "source": [
    "# <ins> Methods And Attributes Related to Pandas DataFrame Object </ins> #\n",
    "\n",
    "- Most of the `Function and Attribute` that we have Learned in the `Pandas Series Object` will be applied to `Pandas DataFrame object` as well\n",
    "- But the `Method` can operate differently on `Pandas DataFrame Object` compared to the `Pandas Series Object` as those are two different Attributes over here\n",
    "- Both `Pandas Series Object and Pandas DataFrame object` have few similarity\n",
    "    - both having the `index label` concept\n",
    "    - both having the `row Data` concept\n",
    "- But There are few difference as well\n",
    "    - `Pandas Series Object` is One dimentional i.e one point of reference \n",
    "    - `Pandas DataFrame Object` is a Two Dimentional Data Structure with two reference point\n",
    "    \n",
    "<br/><br/>\n",
    "\n",
    "- `Few attribute or property and Few Method or Behaviour` which is exclusive to `One Particular Object Type` which is not supported by Another Object\n"
   ]
  },
  {
   "cell_type": "code",
   "execution_count": 4,
   "id": "c419a356",
   "metadata": {
    "scrolled": true
   },
   "outputs": [
    {
     "name": "stdout",
     "output_type": "stream",
     "text": [
      "              Name            Team  Number Position   Age Height  Weight   \n",
      "0    Avery Bradley  Boston Celtics     0.0       PG  25.0    6-2   180.0  \\\n",
      "1      Jae Crowder  Boston Celtics    99.0       SF  25.0    6-6   235.0   \n",
      "2     John Holland  Boston Celtics    30.0       SG  27.0    6-5   205.0   \n",
      "3      R.J. Hunter  Boston Celtics    28.0       SG  22.0    6-5   185.0   \n",
      "4    Jonas Jerebko  Boston Celtics     8.0       PF  29.0   6-10   231.0   \n",
      "..             ...             ...     ...      ...   ...    ...     ...   \n",
      "453   Shelvin Mack       Utah Jazz     8.0       PG  26.0    6-3   203.0   \n",
      "454      Raul Neto       Utah Jazz    25.0       PG  24.0    6-1   179.0   \n",
      "455   Tibor Pleiss       Utah Jazz    21.0        C  26.0    7-3   256.0   \n",
      "456    Jeff Withey       Utah Jazz    24.0        C  26.0    7-0   231.0   \n",
      "457            NaN             NaN     NaN      NaN   NaN    NaN     NaN   \n",
      "\n",
      "               College     Salary  \n",
      "0                Texas  7730337.0  \n",
      "1            Marquette  6796117.0  \n",
      "2    Boston University        NaN  \n",
      "3        Georgia State  1148640.0  \n",
      "4                  NaN  5000000.0  \n",
      "..                 ...        ...  \n",
      "453             Butler  2433333.0  \n",
      "454                NaN   900000.0  \n",
      "455                NaN  2900000.0  \n",
      "456             Kansas   947276.0  \n",
      "457                NaN        NaN  \n",
      "\n",
      "[458 rows x 9 columns]\n"
     ]
    },
    {
     "data": {
      "text/plain": [
       "0      Avery Bradley\n",
       "1        Jae Crowder\n",
       "2       John Holland\n",
       "3        R.J. Hunter\n",
       "4      Jonas Jerebko\n",
       "           ...      \n",
       "453     Shelvin Mack\n",
       "454        Raul Neto\n",
       "455     Tibor Pleiss\n",
       "456      Jeff Withey\n",
       "457              NaN\n",
       "Name: Name, Length: 458, dtype: object"
      ]
     },
     "execution_count": 4,
     "metadata": {},
     "output_type": "execute_result"
    }
   ],
   "source": [
    "import pandas as pd #importing the pandas module \n",
    "df=pd.read_csv(\"../datasets/nba.csv\")\n",
    "#creating the DataFrame object in this case with multiple row and column value \n",
    "print(df) #printing the Pandas DataFrame object\n",
    "df1=pd.read_csv(\"../datasets/nba.csv\",usecols=[\"Name\"])\n",
    "#creating another DataFrame object which we will convert to the Pandas Series Object \n",
    "nba=df1.squeeze(\"columns\")\n",
    "#creating the Series Object using only one column from the DataFrame or DataSets\n",
    "nba"
   ]
  },
  {
   "cell_type": "markdown",
   "id": "27d40110",
   "metadata": {},
   "source": [
    "- Like `head()/tail()` on the Pandas Series Object Pandas DataFrame object also have the `head()/tail()` which by default return the `first 3 or Last 5 values`\n",
    "- we can also provide the `number of rows` we want to see in the respective `Pandas Object` by using the args as `n=<no of rows we want to see>` "
   ]
  },
  {
   "cell_type": "code",
   "execution_count": 11,
   "id": "5a579fdf",
   "metadata": {},
   "outputs": [
    {
     "data": {
      "text/html": [
       "<div>\n",
       "<style scoped>\n",
       "    .dataframe tbody tr th:only-of-type {\n",
       "        vertical-align: middle;\n",
       "    }\n",
       "\n",
       "    .dataframe tbody tr th {\n",
       "        vertical-align: top;\n",
       "    }\n",
       "\n",
       "    .dataframe thead th {\n",
       "        text-align: right;\n",
       "    }\n",
       "</style>\n",
       "<table border=\"1\" class=\"dataframe\">\n",
       "  <thead>\n",
       "    <tr style=\"text-align: right;\">\n",
       "      <th></th>\n",
       "      <th>Name</th>\n",
       "      <th>Team</th>\n",
       "      <th>Number</th>\n",
       "      <th>Position</th>\n",
       "      <th>Age</th>\n",
       "      <th>Height</th>\n",
       "      <th>Weight</th>\n",
       "      <th>College</th>\n",
       "      <th>Salary</th>\n",
       "    </tr>\n",
       "  </thead>\n",
       "  <tbody>\n",
       "    <tr>\n",
       "      <th>0</th>\n",
       "      <td>Avery Bradley</td>\n",
       "      <td>Boston Celtics</td>\n",
       "      <td>0.0</td>\n",
       "      <td>PG</td>\n",
       "      <td>25.0</td>\n",
       "      <td>6-2</td>\n",
       "      <td>180.0</td>\n",
       "      <td>Texas</td>\n",
       "      <td>7730337.0</td>\n",
       "    </tr>\n",
       "    <tr>\n",
       "      <th>1</th>\n",
       "      <td>Jae Crowder</td>\n",
       "      <td>Boston Celtics</td>\n",
       "      <td>99.0</td>\n",
       "      <td>SF</td>\n",
       "      <td>25.0</td>\n",
       "      <td>6-6</td>\n",
       "      <td>235.0</td>\n",
       "      <td>Marquette</td>\n",
       "      <td>6796117.0</td>\n",
       "    </tr>\n",
       "    <tr>\n",
       "      <th>2</th>\n",
       "      <td>John Holland</td>\n",
       "      <td>Boston Celtics</td>\n",
       "      <td>30.0</td>\n",
       "      <td>SG</td>\n",
       "      <td>27.0</td>\n",
       "      <td>6-5</td>\n",
       "      <td>205.0</td>\n",
       "      <td>Boston University</td>\n",
       "      <td>NaN</td>\n",
       "    </tr>\n",
       "    <tr>\n",
       "      <th>3</th>\n",
       "      <td>R.J. Hunter</td>\n",
       "      <td>Boston Celtics</td>\n",
       "      <td>28.0</td>\n",
       "      <td>SG</td>\n",
       "      <td>22.0</td>\n",
       "      <td>6-5</td>\n",
       "      <td>185.0</td>\n",
       "      <td>Georgia State</td>\n",
       "      <td>1148640.0</td>\n",
       "    </tr>\n",
       "    <tr>\n",
       "      <th>4</th>\n",
       "      <td>Jonas Jerebko</td>\n",
       "      <td>Boston Celtics</td>\n",
       "      <td>8.0</td>\n",
       "      <td>PF</td>\n",
       "      <td>29.0</td>\n",
       "      <td>6-10</td>\n",
       "      <td>231.0</td>\n",
       "      <td>NaN</td>\n",
       "      <td>5000000.0</td>\n",
       "    </tr>\n",
       "    <tr>\n",
       "      <th>5</th>\n",
       "      <td>Amir Johnson</td>\n",
       "      <td>Boston Celtics</td>\n",
       "      <td>90.0</td>\n",
       "      <td>PF</td>\n",
       "      <td>29.0</td>\n",
       "      <td>6-9</td>\n",
       "      <td>240.0</td>\n",
       "      <td>NaN</td>\n",
       "      <td>12000000.0</td>\n",
       "    </tr>\n",
       "    <tr>\n",
       "      <th>6</th>\n",
       "      <td>Jordan Mickey</td>\n",
       "      <td>Boston Celtics</td>\n",
       "      <td>55.0</td>\n",
       "      <td>PF</td>\n",
       "      <td>21.0</td>\n",
       "      <td>6-8</td>\n",
       "      <td>235.0</td>\n",
       "      <td>LSU</td>\n",
       "      <td>1170960.0</td>\n",
       "    </tr>\n",
       "    <tr>\n",
       "      <th>7</th>\n",
       "      <td>Kelly Olynyk</td>\n",
       "      <td>Boston Celtics</td>\n",
       "      <td>41.0</td>\n",
       "      <td>C</td>\n",
       "      <td>25.0</td>\n",
       "      <td>7-0</td>\n",
       "      <td>238.0</td>\n",
       "      <td>Gonzaga</td>\n",
       "      <td>2165160.0</td>\n",
       "    </tr>\n",
       "    <tr>\n",
       "      <th>8</th>\n",
       "      <td>Terry Rozier</td>\n",
       "      <td>Boston Celtics</td>\n",
       "      <td>12.0</td>\n",
       "      <td>PG</td>\n",
       "      <td>22.0</td>\n",
       "      <td>6-2</td>\n",
       "      <td>190.0</td>\n",
       "      <td>Louisville</td>\n",
       "      <td>1824360.0</td>\n",
       "    </tr>\n",
       "  </tbody>\n",
       "</table>\n",
       "</div>"
      ],
      "text/plain": [
       "            Name            Team  Number Position   Age Height  Weight   \n",
       "0  Avery Bradley  Boston Celtics     0.0       PG  25.0    6-2   180.0  \\\n",
       "1    Jae Crowder  Boston Celtics    99.0       SF  25.0    6-6   235.0   \n",
       "2   John Holland  Boston Celtics    30.0       SG  27.0    6-5   205.0   \n",
       "3    R.J. Hunter  Boston Celtics    28.0       SG  22.0    6-5   185.0   \n",
       "4  Jonas Jerebko  Boston Celtics     8.0       PF  29.0   6-10   231.0   \n",
       "5   Amir Johnson  Boston Celtics    90.0       PF  29.0    6-9   240.0   \n",
       "6  Jordan Mickey  Boston Celtics    55.0       PF  21.0    6-8   235.0   \n",
       "7   Kelly Olynyk  Boston Celtics    41.0        C  25.0    7-0   238.0   \n",
       "8   Terry Rozier  Boston Celtics    12.0       PG  22.0    6-2   190.0   \n",
       "\n",
       "             College      Salary  \n",
       "0              Texas   7730337.0  \n",
       "1          Marquette   6796117.0  \n",
       "2  Boston University         NaN  \n",
       "3      Georgia State   1148640.0  \n",
       "4                NaN   5000000.0  \n",
       "5                NaN  12000000.0  \n",
       "6                LSU   1170960.0  \n",
       "7            Gonzaga   2165160.0  \n",
       "8         Louisville   1824360.0  "
      ]
     },
     "execution_count": 11,
     "metadata": {},
     "output_type": "execute_result"
    }
   ],
   "source": [
    "import pandas as pd #importing the pandas module \n",
    "df=pd.read_csv(\"../datasets/nba.csv\")\n",
    "#creating the DataFrame object in this case with multiple row and column value \n",
    "# print(df) #printing the Pandas DataFrame object\n",
    "df.head(n=9) #printing the first 5 object from the DataFrame object\n",
    "# df1=pd.read_csv(\"../datasets/nba.csv\",usecols=[\"Name\"])\n",
    "# #creating another DataFrame object which we will convert to the Pandas Series Object \n",
    "# nba=df1.squeeze(\"columns\")\n",
    "# #creating the Series Object using only one column from the DataFrame or DataSets\n",
    "# nba.tail()"
   ]
  },
  {
   "cell_type": "markdown",
   "id": "588c9091",
   "metadata": {},
   "source": [
    "- A `Pandas Series Object` has the `index` attribute which will provide the `RangeIndex` object with `start and stop and step ` value\n",
    "- Same Like pandas Series object we also have the `Pandas DataFrame object` which will provide the `index label` when we call the `index attribute over the Pandas DataFrame Object`\n"
   ]
  },
  {
   "cell_type": "code",
   "execution_count": 14,
   "id": "5c555912",
   "metadata": {},
   "outputs": [
    {
     "data": {
      "text/plain": [
       "RangeIndex(start=0, stop=458, step=1)"
      ]
     },
     "execution_count": 14,
     "metadata": {},
     "output_type": "execute_result"
    }
   ],
   "source": [
    "import pandas as pd #importing the pandas module \n",
    "df=pd.read_csv(\"../datasets/nba.csv\")\n",
    "#creating the DataFrame object in this case with multiple row and column value \n",
    "# print(df) #printing the Pandas DataFrame object\n",
    "df.index\n",
    "# it will return the Range Index object with Start Stop and Step value \n",
    "# under the hood the Pandas DF object and Series Object refer the same RangeIndex object for index label"
   ]
  },
  {
   "cell_type": "markdown",
   "id": "7664df84",
   "metadata": {},
   "source": [
    "- the `values` attribute over the `Pandas Series Object` return the `ndarray` object with all the Stored Value which been coming from `numpy` module which will store the values in the form of Array\n",
    "- But in case of Pandas Series Object its a single dimentional Array\n",
    "- Same Goes for the `Pandas DF Object` which will store the `ndarray` Object to Store the `Values od Pandas DF object`\n",
    "- in case of Pandas DF object it will store the multi dimentional Array i.e Array inside multiple Array will be Stored in here which will be list of multiple list format where each row will store mnultiple values as an Array \n"
   ]
  },
  {
   "cell_type": "code",
   "execution_count": 15,
   "id": "f1de6440",
   "metadata": {
    "scrolled": true
   },
   "outputs": [
    {
     "data": {
      "text/plain": [
       "array([['Avery Bradley', 'Boston Celtics', 0.0, ..., 180.0, 'Texas',\n",
       "        7730337.0],\n",
       "       ['Jae Crowder', 'Boston Celtics', 99.0, ..., 235.0, 'Marquette',\n",
       "        6796117.0],\n",
       "       ['John Holland', 'Boston Celtics', 30.0, ..., 205.0,\n",
       "        'Boston University', nan],\n",
       "       ...,\n",
       "       ['Tibor Pleiss', 'Utah Jazz', 21.0, ..., 256.0, nan, 2900000.0],\n",
       "       ['Jeff Withey', 'Utah Jazz', 24.0, ..., 231.0, 'Kansas', 947276.0],\n",
       "       [nan, nan, nan, ..., nan, nan, nan]], dtype=object)"
      ]
     },
     "execution_count": 15,
     "metadata": {},
     "output_type": "execute_result"
    }
   ],
   "source": [
    "import pandas as pd #importing the pandas module \n",
    "df=pd.read_csv(\"../datasets/nba.csv\")\n",
    "#creating the DataFrame object in this case with multiple row and column value \n",
    "# print(df) #printing the Pandas DataFrame object\n",
    "df.values"
   ]
  },
  {
   "cell_type": "markdown",
   "id": "7ac77cb2",
   "metadata": {},
   "source": [
    "- in `Pandas Series Object` we have an `shape` attribute which will provide the tuple in return \n",
    "- the returned `tuple` contains the `dimention of the Pandas Object` with `number of element inside it`\n",
    "- it return the `number of rows and number of column ` in `tuple` format\n",
    "- but as the `Pandas Series Object does not have any Column value` hence it will be `(<no of rows>,)`\n",
    "- when we use the `shape()` on the `Pandas DF object` as it has both the `row and column` it will provide the `tuple` with both the `row and column value` i.e `(<no of row>,<no of column>)`\n",
    "    "
   ]
  },
  {
   "cell_type": "code",
   "execution_count": 17,
   "id": "0ae26651",
   "metadata": {},
   "outputs": [
    {
     "data": {
      "text/plain": [
       "(458, 9)"
      ]
     },
     "execution_count": 17,
     "metadata": {},
     "output_type": "execute_result"
    }
   ],
   "source": [
    "import pandas as pd #importing the pandas module \n",
    "df=pd.read_csv(\"../datasets/nba.csv\")\n",
    "#creating the DataFrame object in this case with multiple row and column value \n",
    "# print(df) #printing the Pandas DataFrame object\n",
    "df.shape\n",
    "#using the shape() to find the no of rows and column in form of tuple"
   ]
  },
  {
   "cell_type": "markdown",
   "id": "e20cebec",
   "metadata": {},
   "source": [
    "- There is a `dtype` attribute which provide the `type of pandas Series Object`\n",
    "- similarly there is a `dtypes` attribute which provide the `type of pandas DF Object` which will return a `Pandas Series Object` with `Key` as `column Name` and `value` as `object stored in the column`\n",
    "- we can also apply the `dtypes` to the `Pandas Series object` as well\n",
    "- when we use the `dtype/dtypes` over the `Pandas Series Object` it will return the `single object of dtype` where as for the Pandas DF object it return the `Pandas Series Object`"
   ]
  },
  {
   "cell_type": "code",
   "execution_count": 19,
   "id": "c8c8ef15",
   "metadata": {
    "scrolled": true
   },
   "outputs": [
    {
     "data": {
      "text/plain": [
       "Name         object\n",
       "Team         object\n",
       "Number      float64\n",
       "Position     object\n",
       "Age         float64\n",
       "Height       object\n",
       "Weight      float64\n",
       "College      object\n",
       "Salary      float64\n",
       "dtype: object"
      ]
     },
     "execution_count": 19,
     "metadata": {},
     "output_type": "execute_result"
    }
   ],
   "source": [
    "import pandas as pd #importing the pandas module \n",
    "df=pd.read_csv(\"../datasets/nba.csv\")\n",
    "#creating the DataFrame object in this case with multiple row and column value \n",
    "# print(df) #printing the Pandas DataFrame object\n",
    "df.dtypes\n",
    "# this will provide each column store which type of values \n",
    "#but in case of Pandas Series Object as there is only one column hence we will get the output with One value "
   ]
  },
  {
   "cell_type": "markdown",
   "id": "dd51e23a",
   "metadata": {},
   "source": [
    "# <ins> Attribute and Method Specific to the Pandas Series Object will not wortk in Pandas DF object </ins> #\n",
    "\n",
    "##### <ins> hsnans </ins> ##### \n",
    "\n",
    "- `Pandas Series Object` has an attribute called `hasnans` which willk return a boolean value \n",
    "- if the `Pandas Series Object` has `NaN` value then it will return `True` else `False`\n",
    "- this is not applicable to the `Pandas DF object` if we force then we will end up getting the `Attribute Error`\n"
   ]
  },
  {
   "cell_type": "code",
   "execution_count": 23,
   "id": "062ca2ea",
   "metadata": {},
   "outputs": [
    {
     "data": {
      "text/plain": [
       "True"
      ]
     },
     "execution_count": 23,
     "metadata": {},
     "output_type": "execute_result"
    }
   ],
   "source": [
    "import pandas as pd #importing the pandas module \n",
    "df=pd.read_csv(\"../datasets/nba.csv\")\n",
    "#creating the DataFrame object in this case with multiple row and column value \n",
    "# print(df) #printing the Pandas DataFrame object\n",
    "df.head(n=9) #printing the first 5 object from the DataFrame object\n",
    "# df1=pd.read_csv(\"../datasets/nba.csv\",usecols=[\"Name\"])\n",
    "# #creating another DataFrame object which we will convert to the Pandas Series Object \n",
    "# nba=df1.squeeze(\"columns\")\n",
    "# #creating the Series Object using only one column from the DataFrame or DataSets\n",
    "nba.hasnans # it will return the boolen value based on whether the NaN present or not\n",
    "# df.hasnans #here it will throw the Attribute Error"
   ]
  },
  {
   "cell_type": "markdown",
   "id": "ba543ce4",
   "metadata": {},
   "source": [
    "# <ins> Attribute and Method Specific to the Pandas DF Object will not wortk in Pandas Series object </ins> #\n",
    "\n",
    "##### <ins> columns </ins> ##### \n",
    "\n",
    "- `Pandas DF Object` has the attribute as `columns` which will provide the `index` object in return with all the `column header name`\n",
    "- in `Pandas DF Object` column `header name` can be considered as the `unique identifier` \n",
    "- here the `column header` can be considered as the `collection of identifiers` same as the `index label`\n",
    "- in other ward we can say as `DF object` has 2 identifier\n",
    "    - 1 will be the Pandas index label which can identify the rows \n",
    "    - other one will be the Pandas `column header` which will identify the specific column \n",
    "\n",
    "- if we try to apply the same on the `Pandas Series object` as it has not `column identifier` hence we will be getting the `Attribute Error` in that case\n"
   ]
  },
  {
   "cell_type": "code",
   "execution_count": 27,
   "id": "86d0c8f4",
   "metadata": {
    "scrolled": true
   },
   "outputs": [
    {
     "data": {
      "text/plain": [
       "[RangeIndex(start=0, stop=458, step=1),\n",
       " Index(['Name', 'Team', 'Number', 'Position', 'Age', 'Height', 'Weight',\n",
       "        'College', 'Salary'],\n",
       "       dtype='object')]"
      ]
     },
     "execution_count": 27,
     "metadata": {},
     "output_type": "execute_result"
    }
   ],
   "source": [
    "import pandas as pd #importing the pandas Module \n",
    "#creating the DataFrame object from pandas module \n",
    "df=pd.read_csv(\"../datasets/nba.csv\")\n",
    "df.columns"
   ]
  },
  {
   "cell_type": "markdown",
   "id": "37d748af",
   "metadata": {},
   "source": [
    "# <ins> Both Pandas Series Object and DF object common function and attributes </ins> #\n",
    "\n",
    "##### <ins> axes </ins> ##### \n",
    "\n",
    "- `axes` attributes on both the Pandas `Series Object` and `DF object` return all the `indexes` that wil help in extracting a single value out of the Specific object\n",
    "- the axes attribute return the `List of indexes which help in retriving a value from the Pandas Object`\n",
    "- in case of the `Pandas Series Object` it a list of `RangeIndex with index label in it`\n",
    "- in case of the `Pandas DF object` it is a List of `RangeIndex with index label in it and Index with Coulmn header which will identify a single column in it`\n",
    "\n",
    "\n",
    "##### <ins> info() </ins> ##### \n",
    "\n",
    "- the `info` method on pandas `Series Object` and `DF object` can be applied on \n",
    "- it return the below output\n",
    "    \n",
    "    - it return the whether its a Series Or DataFrame object with module signature \n",
    "    - then it return the `index label` as the `Range Index`\n",
    "    - it also include the `How Many Non Blank are there and What dtype they contains` in case of Pandas Series Object\n",
    "    - But in case of Pandas DF object it will return the `How Many Non Blank value` based on the column and there respecive `dtype` object\n",
    "    - both also return `dtypes` attribute result in the return\n",
    "    - it also show the Memory usage of each type of Object\n"
   ]
  },
  {
   "cell_type": "code",
   "execution_count": 30,
   "id": "4e9edb16",
   "metadata": {
    "scrolled": true
   },
   "outputs": [
    {
     "name": "stdout",
     "output_type": "stream",
     "text": [
      "<class 'pandas.core.frame.DataFrame'>\n",
      "RangeIndex: 458 entries, 0 to 457\n",
      "Data columns (total 9 columns):\n",
      " #   Column    Non-Null Count  Dtype  \n",
      "---  ------    --------------  -----  \n",
      " 0   Name      457 non-null    object \n",
      " 1   Team      457 non-null    object \n",
      " 2   Number    457 non-null    float64\n",
      " 3   Position  457 non-null    object \n",
      " 4   Age       457 non-null    float64\n",
      " 5   Height    457 non-null    object \n",
      " 6   Weight    457 non-null    float64\n",
      " 7   College   373 non-null    object \n",
      " 8   Salary    446 non-null    float64\n",
      "dtypes: float64(4), object(5)\n",
      "memory usage: 32.3+ KB\n"
     ]
    }
   ],
   "source": [
    "import pandas as pd\n",
    "#importing the pandas module in here\n",
    "df=pd.read_csv(\"../datasets/nba.csv\")\n",
    "df.axes #checking all the index of the DataFrame object \n",
    "df.info() #using the info() on the pandas DF object to get all the info related to the DF object "
   ]
  },
  {
   "cell_type": "code",
   "execution_count": 32,
   "id": "f0786a19",
   "metadata": {},
   "outputs": [
    {
     "name": "stdout",
     "output_type": "stream",
     "text": [
      "<class 'pandas.core.series.Series'>\n",
      "RangeIndex: 458 entries, 0 to 457\n",
      "Series name: Name\n",
      "Non-Null Count  Dtype \n",
      "--------------  ----- \n",
      "457 non-null    object\n",
      "dtypes: object(1)\n",
      "memory usage: 3.7+ KB\n"
     ]
    }
   ],
   "source": [
    "import pandas as pd\n",
    "#importing the pandas module in here\n",
    "df=pd.read_csv(\"../datasets/nba.csv\",usecols=[\"Name\"])\n",
    "#creating the DataFrame object in this case over here with One column\n",
    "nba=df.squeeze(\"columns\")\n",
    "#creating the Series Object from DF object \n",
    "nba.axes #using the axes attribute on pandas Series Object\n",
    "nba.info() #using the info() on the Pandas Serie Object to get overall info\n",
    "                                                                                                                                            "
   ]
  }
 ],
 "metadata": {
  "kernelspec": {
   "display_name": "Python 3 (ipykernel)",
   "language": "python",
   "name": "python3"
  },
  "language_info": {
   "codemirror_mode": {
    "name": "ipython",
    "version": 3
   },
   "file_extension": ".py",
   "mimetype": "text/x-python",
   "name": "python",
   "nbconvert_exporter": "python",
   "pygments_lexer": "ipython3",
   "version": "3.9.5"
  }
 },
 "nbformat": 4,
 "nbformat_minor": 5
}
