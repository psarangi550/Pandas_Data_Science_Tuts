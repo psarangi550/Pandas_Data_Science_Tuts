{
 "cells": [
  {
   "cell_type": "markdown",
   "id": "a186078c",
   "metadata": {},
   "source": [
    " # <ins> Extracting a Single Column From Pandas DF object </ins> #\n",
    " \n",
    " #### <ins> 1st Approach </ins>  ####\n",
    " \n",
    " - here we will learn how to `extract or select` a `single column` from the `Pandas DF object`\n",
    " - using the `column header` with the `.` operator we can get the single column value \n",
    " - we can apply the same using the pandas DF object as below \n",
    "     ```\n",
    "         import pandas as pd #importing the pandas moddule in here\n",
    "         df=pd.read_csv(\"<datasets address location>\")\n",
    "         #creating the Pandas DF object from the pandas module in this case\n",
    "         <pandas Series Object>=df.<name of column header>\n",
    "         #the `.` operator with the `column name` provide the `Pandas Series Object` as output\n",
    "     ``` \n",
    "- we can safely say that the `Pandas DF object` is the `combination of Pandas Series Object which are glued together with a common index `\n",
    "- but this is not the ideal approach to fetch the single column value from pandas DF object \n",
    "- But we can access the `column header` as `attribute` of `DF object` in order to get the `single column value in it`\n",
    "- but this syntax will not going to work if the `column header name` has a `space in between them`\n",
    "- it will throw a `invalid syntax` error if  we have `spaces` in the `column header name` in `Pandas Series object`\n",
    "- if we are seaching for the column header which is not present in the DF object then we will endup getting the Attribute Error\n",
    "\n",
    " #### <ins> 2nd Approach </ins>  ####\n",
    " \n",
    " - we can access the `column name` by providing the `<column name>` in the `square bracket` as if we are accessing the `Key` from the `p[ython dictionary`\n",
    " - the syntax of that will be as \n",
    " \n",
    "     ```\n",
    "         import pandas as pd #importing the pandas moddule in here\n",
    "         df=pd.read_csv(\"<datasets address location>\")\n",
    "         #creating the Pandas DF object from the pandas module in this case\n",
    "         <pandas Series Object>=df[\"<column header name>\"]\n",
    "         # the `[\"<column header>\"]` operator with the `column name` provide the `Pandas Series Object` as output\n",
    "     ``` \n",
    "- in case `Pandas Series Object` we are using this approach to get the `Series Value` based on `index lable or index position value`\n",
    "- when we provide the `[]` then it will target the `column of the Pandas DF object` not the `index label of Pandas Series Object`\n",
    "- this also return the `Pandas Serie Object in return same as . operator `\n",
    "- if we are seaching for the `column header` which is not present in the `DF object` then we will endup getting the `Key Error` rather than the `Attribute Error`\n"
   ]
  },
  {
   "cell_type": "code",
   "execution_count": 2,
   "id": "db91512f",
   "metadata": {
    "scrolled": true
   },
   "outputs": [
    {
     "data": {
      "text/plain": [
       "0      Avery Bradley\n",
       "1        Jae Crowder\n",
       "2       John Holland\n",
       "3        R.J. Hunter\n",
       "4      Jonas Jerebko\n",
       "           ...      \n",
       "453     Shelvin Mack\n",
       "454        Raul Neto\n",
       "455     Tibor Pleiss\n",
       "456      Jeff Withey\n",
       "457              NaN\n",
       "Name: Name, Length: 458, dtype: object"
      ]
     },
     "execution_count": 2,
     "metadata": {},
     "output_type": "execute_result"
    }
   ],
   "source": [
    "import pandas as pd #importing the pandas module in here\n",
    "df=pd.read_csv(\"../datasets/nba.csv\")\n",
    "# creating the DataFrame object from pandas module using the read_csv()\n",
    "df.Name #fetching the single column using the `.` operator \n",
    "# this will return a Pandas Series Object in return with the Single valued Data\n",
    "#here if wer provide a differn"
   ]
  },
  {
   "cell_type": "code",
   "execution_count": 3,
   "id": "3ac041cf",
   "metadata": {},
   "outputs": [
    {
     "data": {
      "text/plain": [
       "0      Avery Bradley\n",
       "1        Jae Crowder\n",
       "2       John Holland\n",
       "3        R.J. Hunter\n",
       "4      Jonas Jerebko\n",
       "           ...      \n",
       "453     Shelvin Mack\n",
       "454        Raul Neto\n",
       "455     Tibor Pleiss\n",
       "456      Jeff Withey\n",
       "457              NaN\n",
       "Name: Name, Length: 458, dtype: object"
      ]
     },
     "execution_count": 3,
     "metadata": {},
     "output_type": "execute_result"
    }
   ],
   "source": [
    "import pandas as pd #importing the pandas module in here\n",
    "df=pd.read_csv(\"../datasets/nba.csv\")\n",
    "# creating the DataFrame object from pandas module using the read_csv()\n",
    "df[\"Name\"] #fetching the single column using the `[<column name>]` operator \n",
    "# this will return a Pandas Series Object in return with the Single valued Data"
   ]
  }
 ],
 "metadata": {
  "kernelspec": {
   "display_name": "Python 3 (ipykernel)",
   "language": "python",
   "name": "python3"
  },
  "language_info": {
   "codemirror_mode": {
    "name": "ipython",
    "version": 3
   },
   "file_extension": ".py",
   "mimetype": "text/x-python",
   "name": "python",
   "nbconvert_exporter": "python",
   "pygments_lexer": "ipython3",
   "version": "3.9.5"
  }
 },
 "nbformat": 4,
 "nbformat_minor": 5
}
