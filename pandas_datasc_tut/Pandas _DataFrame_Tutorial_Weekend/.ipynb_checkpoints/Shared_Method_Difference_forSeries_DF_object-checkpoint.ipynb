{
 "cells": [
  {
   "cell_type": "markdown",
   "id": "bd38b8c7",
   "metadata": {},
   "source": [
    "# <ins> Shared Method Differnce for Pandas Series and DF object </ins> #\n",
    "\n",
    "- There will be shared methods in both Pandas Series and DF object but how they return the value will be different based on the object they are applied on \n",
    "- a series has `sum()` which return the `Sum of All the values in the Pandas Series Object`\n",
    "- we can't provide additional args to the `sum()` on the `Series Object` as they can calulate     vertically i.e `all the rows accross one column` as it has a single column \n",
    "    ```\n",
    "     <pandas Series object>.sum()\n",
    "     # it will always going to be calculate accross the column wise as only one column present and has      no axis args can be provided over here \n",
    "    ```\n",
    "<br/><br/>\n",
    "- but the while invoking the `sum()` on the `Pandas DF object` it can `sum all the columns` accross `     one row` which is `horizental in nature` or `sum of all rows` accross `one column` which is vertical   in nature\n",
    "- by default when we call the `sum()` on the `Pandas DF object` then it will sum the `all rows` accross  `one columns` which is vertical in nature and provide the `Pandas Series Object` in return with each  `column header` as the `key/index label` and value is the `sum of all the rows accross one column` i.e   vertical sum\n",
    "- if we want to add the values in `horizontal manner` i.e `all the columns accross the single row` then   we can do that as providing the `axis` paramter to the `sum()`\n",
    "- `axis` basically represent `accross which we want to calculate` which is by default set to `index` hence `accross all the rows the sum will be calculated for each column`\n",
    "<br/><br/>\n",
    "- but this `axis` args we can't provide tho the `Pandas Series Object` as it is `One Dimentional in      nature`\n",
    "- the `axis` args decide accross which we want to calculate which is default to `rows` hence vertical calculation happend\n",
    "     ```\n",
    "         <pandas DF object>.sum(axis=\"columns/index\")\n",
    "         #here the axis args decide accross which we want to calculate the value \n",
    "     ```\n",
    "     \n",
    "- here the `column header` considered as the `2nd index` hence it can be denoted as `1` value\n",
    "- but  the `index label` considered as the `1st index` hence it can be donoted with the number `0`\n",
    "\n",
    "    ```\n",
    "         <pandas DF object>.sum(axis=0/1)\n",
    "         #here the axis args decide accross which we want to calculate the value \n",
    "     ```\n",
    "\n"
   ]
  },
  {
   "cell_type": "code",
   "execution_count": 6,
   "id": "87b19e16",
   "metadata": {},
   "outputs": [
    {
     "data": {
      "text/plain": [
       "Date\n",
       "1/1/16     1606\n",
       "1/2/16     2060\n",
       "1/3/16      967\n",
       "1/4/16     2519\n",
       "1/5/16      438\n",
       "1/6/16     1935\n",
       "1/7/16     1234\n",
       "1/8/16     2313\n",
       "1/9/16     2623\n",
       "1/10/16     555\n",
       "dtype: int64"
      ]
     },
     "execution_count": 6,
     "metadata": {},
     "output_type": "execute_result"
    }
   ],
   "source": [
    "import pandas as pd #importing the pandas module \n",
    "df=pd.read_csv(\"../datasets/revenue.csv\",index_col=\"Date\")\n",
    "#creating the DF object the the revenue.csv file with multiple column and Row with Date as the index label\n",
    "df #printing the DF object\n",
    "df.sum() # by default here the axis corresponds to `index` / `0` hence provide the values accross all row \n",
    "df.sum(\"index\") # using the string index to fetch the sum accross all the rows\n",
    "df.sum(0) #all these provide the same value as above\n",
    "#similarly if we want to fetch according to the columns i.e accross the columns we can get the result as below \n",
    "df.sum(\"columns\") # using the string columns to fetch the sum accross all the columns\n",
    "df.sum(1) #all these provide the same value as above\n"
   ]
  }
 ],
 "metadata": {
  "kernelspec": {
   "display_name": "Python 3 (ipykernel)",
   "language": "python",
   "name": "python3"
  },
  "language_info": {
   "codemirror_mode": {
    "name": "ipython",
    "version": 3
   },
   "file_extension": ".py",
   "mimetype": "text/x-python",
   "name": "python",
   "nbconvert_exporter": "python",
   "pygments_lexer": "ipython3",
   "version": "3.9.5"
  }
 },
 "nbformat": 4,
 "nbformat_minor": 5
}
